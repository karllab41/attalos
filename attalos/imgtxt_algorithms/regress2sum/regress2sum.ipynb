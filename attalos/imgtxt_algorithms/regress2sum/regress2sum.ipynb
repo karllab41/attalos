{
 "cells": [
  {
   "cell_type": "code",
   "execution_count": 1,
   "metadata": {
    "collapsed": true
   },
   "outputs": [],
   "source": [
    "import readw2v as rw2v\n",
    "import numpy as np\n",
    "import tensorflow as tf\n",
    "sess = tf.InteractiveSession()"
   ]
  },
  {
   "cell_type": "code",
   "execution_count": 2,
   "metadata": {
    "collapsed": true
   },
   "outputs": [],
   "source": [
    "F = rw2v.ReadW2V('wordvecs/text9Bvin.bin')\n",
    "vectors = F.readlines()"
   ]
  },
  {
   "cell_type": "markdown",
   "metadata": {},
   "source": [
    "### Variables"
   ]
  },
  {
   "cell_type": "code",
   "execution_count": 3,
   "metadata": {
    "collapsed": false
   },
   "outputs": [],
   "source": [
    "data = np.load('data/iaprtc_alexfc7.npz')\n",
    "D = open('data/iaprtc_dictionary.txt').read().splitlines()\n",
    "train_ims = [ im.split('/')[-1] for im in open('data/iaprtc_trainlist.txt').read().splitlines() ]\n",
    "test_ims = [ im.split('/')[-1] for im in open('data/iaprtc_testlist.txt').read().splitlines() ]\n",
    "xTr = data['xTr'].T\n",
    "yTr = data['yTr'].T\n",
    "xTe = data['xTe'].T\n",
    "yTe = data['yTe'].T\n",
    "wc = yTr.sum(axis=0)+0.00\n",
    "\n",
    "imfeatsize = xTr.shape[1]\n",
    "vocabsize = yTr.shape[1]\n",
    "wordvecsize = vectors['</s>'].shape[0]"
   ]
  },
  {
   "cell_type": "code",
   "execution_count": 17,
   "metadata": {
    "collapsed": true
   },
   "outputs": [],
   "source": [
    "BATCH_SIZE = 256\n",
    "HIDDEN_SIZE = 300\n",
    "RATE = 10.5"
   ]
  },
  {
   "cell_type": "markdown",
   "metadata": {
    "collapsed": false
   },
   "source": [
    "### If you wanted to collect them into a matrix similar to IAPR-TC12, then this would be how you would do it.\n",
    "\n",
    "matval = np.array(vectors.values())\n",
    "words = vectors.keys()"
   ]
  },
  {
   "cell_type": "code",
   "execution_count": 5,
   "metadata": {
    "collapsed": false
   },
   "outputs": [],
   "source": [
    "targetwords = [ D[i] for i in np.nonzero( yTr[np.random.randint(len(yTr))] )[0] ]\n",
    "targetvecs = np.array( [vectors[w] for w in targetwords ] )"
   ]
  },
  {
   "cell_type": "markdown",
   "metadata": {
    "collapsed": false
   },
   "source": [
    "### Things not in the Wikipedia right now:\n",
    "\n",
    "'tee-shirt'"
   ]
  },
  {
   "cell_type": "markdown",
   "metadata": {},
   "source": [
    "### For a single feature, get the related training vectors\n",
    "\n",
    "Usage:  (im, veclist) = get_training_vectors( index_number )\n",
    "\n",
    "### For multiple features (in the list of indices), for each image feature, sum the training vectors"
   ]
  },
  {
   "cell_type": "code",
   "execution_count": 6,
   "metadata": {
    "collapsed": false
   },
   "outputs": [],
   "source": [
    "# Given an index into the corpus, get the corresponding image feature and all word vectors from it\n",
    "def get_training_vectors(index):\n",
    "    yTrList = []\n",
    "    for i in np.nonzero( yTr[index] )[0]:\n",
    "        yTrList.append( vectors[ D[i] ] )\n",
    "    return (xTr[index], np.array(yTrList))\n",
    "\n",
    "def get_training_batch(indices):\n",
    "    \n",
    "    feats = np.zeros((len(indices),imfeatsize))\n",
    "    labels = np.zeros((len(indices),wordvecsize))\n",
    "    \n",
    "    for j, i in enumerate(indices):\n",
    "        feats[j], wordfeats = get_training_vectors(i)\n",
    "        labels[j] = wordfeats.sum(axis=0)\n",
    "    return (feats, labels)"
   ]
  },
  {
   "cell_type": "code",
   "execution_count": 18,
   "metadata": {
    "collapsed": false
   },
   "outputs": [
    {
     "name": "stdout",
     "output_type": "stream",
     "text": [
      "Image feature size = 4096\n",
      "Image vocabulary size = 291\n",
      "Looking to extend that to 218317\n",
      "Initializing tensorflow variables\n"
     ]
    }
   ],
   "source": [
    "print \"Image feature size = {}\".format( imfeatsize )\n",
    "print \"Image vocabulary size = {}\".format( vocabsize )\n",
    "print \"Looking to extend that to {}\".format( len(vectors) )\n",
    "\n",
    "print \"Initializing tensorflow variables\"\n",
    "# Tensorflow input output data\n",
    "X = tf.placeholder(tf.float32, shape=[None, imfeatsize], name='Input')\n",
    "Ytruth = tf.placeholder(tf.float32, shape=[None, wordvecsize], name='Truth')\n",
    "# positive_examples = tf.placeholder(tf.float32, shape=[BATCH_SIZE, HIDDEN_SIZE], name=\"Positive_Examples\")\n",
    "# negative_examples = tf.placeholder(tf.float32, shape=[BATCH_SIZE, HIDDEN_SIZE], name=\"Negative_Examples\")\n",
    "\n",
    "# Tensorflow variable weights\n",
    "W0 = tf.Variable(tf.random_normal([imfeatsize, HIDDEN_SIZE],stddev=0.01))\n",
    "W1 = tf.Variable(tf.random_normal([HIDDEN_SIZE, wordvecsize], stddev=0.01))"
   ]
  },
  {
   "cell_type": "code",
   "execution_count": 19,
   "metadata": {
    "collapsed": false
   },
   "outputs": [],
   "source": [
    "# Two layer perceptron\n",
    "def two_layer_perceptron(X_i, Wt0, Wt1):\n",
    "    hidden_layer = tf.nn.sigmoid(tf.matmul(X_i, Wt0))\n",
    "    return tf.nn.sigmoid( tf.matmul(hidden_layer, Wt1) )\n",
    "Y = two_layer_perceptron(X, W0, W1)\n",
    "\n",
    "binxentropy = tf.reduce_mean(-tf.reduce_sum(Ytruth * tf.log(Y) + (1 - Ytruth)*tf.log(Y), reduction_indices=[1]))\n",
    "\n",
    "\n",
    "# Optimization\n",
    "# optimizer = tf.train.AdamOptimizer(learning_rate=learning_rate).minimize(loss)\n",
    "# optimizer = tf.train.GradientDescentOptimizer(learning_rate=RATE).minimize(tf.nn.sigmoid_cross_entropy_with_logits)\n",
    "optimizer = tf.train.GradientDescentOptimizer(learning_rate=RATE).minimize(binxentropy)"
   ]
  },
  {
   "cell_type": "code",
   "execution_count": 25,
   "metadata": {
    "collapsed": false
   },
   "outputs": [
    {
     "name": "stdout",
     "output_type": "stream",
     "text": [
      "W0Prior: [[-0.01213569 -0.01887675  0.00808011 ..., -0.00982916 -0.00512841\n",
      "   0.00833054]\n",
      " [ 0.00950038 -0.00654202  0.02069425 ...,  0.00642064  0.00775894\n",
      "   0.02128237]\n",
      " [ 0.00150842 -0.00822053  0.00819415 ..., -0.0052852  -0.01754505\n",
      "  -0.00240675]\n",
      " ..., \n",
      " [-0.01790305  0.01509334 -0.00508675 ..., -0.01111428  0.00061994\n",
      "  -0.00765084]\n",
      " [-0.00148999  0.01108773 -0.00997723 ...,  0.00451478 -0.02373127\n",
      "  -0.00741707]\n",
      " [ 0.00499245 -0.00092504 -0.00930928 ...,  0.01315378  0.01552419\n",
      "   0.00498952]]\n",
      "W1Afte: [[-0.01213569 -0.01887675  0.00808011 ..., -0.00982916 -0.00512841\n",
      "   0.00833054]\n",
      " [ 0.00950038 -0.00654202  0.02069425 ...,  0.00642064  0.00775894\n",
      "   0.02128237]\n",
      " [ 0.00150842 -0.00822053  0.00819415 ..., -0.0052852  -0.01754505\n",
      "  -0.00240675]\n",
      " ..., \n",
      " [-0.01790305  0.01509334 -0.00508675 ..., -0.01111428  0.00061994\n",
      "  -0.00765084]\n",
      " [-0.01840393  0.01458254  0.09460671 ...,  0.04781729  0.00042891\n",
      "   0.03502929]\n",
      " [-0.00374412  0.00092771  0.02166458 ...,  0.03741152  0.02428984\n",
      "   0.0225945 ]]\n",
      "None\n",
      "138.135\n",
      "[[ 0.50765234  0.43716237  0.50244159 ...,  0.4824191   0.49633944\n",
      "   0.45937228]\n",
      " [ 0.5026598   0.44242737  0.49676076 ...,  0.48126888  0.49710283\n",
      "   0.47002482]\n",
      " [ 0.49979052  0.4365257   0.50125664 ...,  0.46915564  0.49243623\n",
      "   0.46978107]\n",
      " [ 0.49030575  0.44271901  0.5024215  ...,  0.47541961  0.50599051\n",
      "   0.46734083]\n",
      " [ 0.50073141  0.44709077  0.49640363 ...,  0.47368756  0.49678829\n",
      "   0.46549013]\n",
      " [ 0.50492764  0.43388081  0.49503624 ...,  0.48691124  0.49065226\n",
      "   0.46533889]]\n"
     ]
    }
   ],
   "source": [
    "# with tf.InteractiveSession as sess:\n",
    "  \n",
    "if True:\n",
    "    # sess = tf.InteractiveSession()\n",
    "    tf.initialize_all_variables().run()\n",
    "\n",
    "    print \"W0Prior: {}\".format(W0.eval())\n",
    "    \n",
    "    imbatch, wordbatch = get_training_batch([0,1,2,3,4,5])\n",
    "    optval, lossval, yval = sess.run([optimizer, binxentropy, Y], feed_dict={X:imbatch, Ytruth:wordbatch})\n",
    "    \n",
    "    print \"W1Afte: {}\".format(W0.eval())\n",
    "    \n",
    "    print optval\n",
    "    print lossval\n",
    "    print yval\n",
    "    \n",
    "    "
   ]
  },
  {
   "cell_type": "code",
   "execution_count": null,
   "metadata": {
    "collapsed": true
   },
   "outputs": [],
   "source": []
  }
 ],
 "metadata": {
  "kernelspec": {
   "display_name": "Python 2",
   "language": "python",
   "name": "python2"
  },
  "language_info": {
   "codemirror_mode": {
    "name": "ipython",
    "version": 2
   },
   "file_extension": ".py",
   "mimetype": "text/x-python",
   "name": "python",
   "nbconvert_exporter": "python",
   "pygments_lexer": "ipython2",
   "version": "2.7.6"
  }
 },
 "nbformat": 4,
 "nbformat_minor": 0
}
