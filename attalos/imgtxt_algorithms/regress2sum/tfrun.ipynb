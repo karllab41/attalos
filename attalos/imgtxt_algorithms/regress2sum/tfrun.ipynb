{
 "cells": [
  {
   "cell_type": "code",
   "execution_count": 3,
   "metadata": {
    "collapsed": false
   },
   "outputs": [
    {
     "name": "stdout",
     "output_type": "stream",
     "text": [
      "Collecting git+https://github.com/tflearn/tflearn.git\n",
      "  Cloning https://github.com/tflearn/tflearn.git to /tmp/pip-WWzo2s-build\n",
      "Requirement already satisfied (use --upgrade to upgrade): numpy in /opt/conda/lib/python2.7/site-packages (from tflearn==0.2.1)\n",
      "Requirement already satisfied (use --upgrade to upgrade): six in /opt/conda/lib/python2.7/site-packages (from tflearn==0.2.1)\n",
      "Requirement already satisfied (use --upgrade to upgrade): Pillow in /opt/conda/lib/python2.7/site-packages (from tflearn==0.2.1)\n",
      "Installing collected packages: tflearn\n",
      "  Running setup.py install for tflearn ... \u001b[?25l-\b \bdone\n",
      "\u001b[?25hSuccessfully installed tflearn-0.2.1\n",
      "\u001b[33mYou are using pip version 8.1.1, however version 8.1.2 is available.\n",
      "You should consider upgrading via the 'pip install --upgrade pip' command.\u001b[0m\n"
     ]
    }
   ],
   "source": [
    "# !pip install git+https://github.com/tflearn/tflearn.git"
   ]
  },
  {
   "cell_type": "code",
   "execution_count": 4,
   "metadata": {
    "collapsed": false
   },
   "outputs": [],
   "source": [
    "import numpy as np\n",
    "import tflearn"
   ]
  },
  {
   "cell_type": "markdown",
   "metadata": {},
   "source": [
    "### Variables"
   ]
  },
  {
   "cell_type": "code",
   "execution_count": 5,
   "metadata": {
    "collapsed": false
   },
   "outputs": [
    {
     "ename": "IOError",
     "evalue": "[Errno 2] No such file or directory: '/local_data/alexnet-feats/iaprtc_alexfc7.npz'",
     "output_type": "error",
     "traceback": [
      "\u001b[1;31m---------------------------------------------------------------------------\u001b[0m",
      "\u001b[1;31mIOError\u001b[0m                                   Traceback (most recent call last)",
      "\u001b[1;32m<ipython-input-5-dfad505cb071>\u001b[0m in \u001b[0;36m<module>\u001b[1;34m()\u001b[0m\n\u001b[1;32m----> 1\u001b[1;33m \u001b[0mdata\u001b[0m \u001b[1;33m=\u001b[0m \u001b[0mnp\u001b[0m\u001b[1;33m.\u001b[0m\u001b[0mload\u001b[0m\u001b[1;33m(\u001b[0m\u001b[1;34m'/local_data/alexnet-feats/iaprtc_alexfc7.npz'\u001b[0m\u001b[1;33m)\u001b[0m\u001b[1;33m\u001b[0m\u001b[0m\n\u001b[0m\u001b[0;32m      2\u001b[0m \u001b[0mD\u001b[0m \u001b[1;33m=\u001b[0m \u001b[0mopen\u001b[0m\u001b[1;33m(\u001b[0m\u001b[1;34m'/local_data/alexnet-feats/iaprtc_dictionary.txt'\u001b[0m\u001b[1;33m)\u001b[0m\u001b[1;33m.\u001b[0m\u001b[0mread\u001b[0m\u001b[1;33m(\u001b[0m\u001b[1;33m)\u001b[0m\u001b[1;33m.\u001b[0m\u001b[0msplitlines\u001b[0m\u001b[1;33m(\u001b[0m\u001b[1;33m)\u001b[0m\u001b[1;33m\u001b[0m\u001b[0m\n\u001b[0;32m      3\u001b[0m \u001b[0mtrain_ims\u001b[0m \u001b[1;33m=\u001b[0m \u001b[1;33m[\u001b[0m \u001b[0mim\u001b[0m\u001b[1;33m.\u001b[0m\u001b[0msplit\u001b[0m\u001b[1;33m(\u001b[0m\u001b[1;34m'/'\u001b[0m\u001b[1;33m)\u001b[0m\u001b[1;33m[\u001b[0m\u001b[1;33m-\u001b[0m\u001b[1;36m1\u001b[0m\u001b[1;33m]\u001b[0m \u001b[1;32mfor\u001b[0m \u001b[0mim\u001b[0m \u001b[1;32min\u001b[0m \u001b[0mopen\u001b[0m\u001b[1;33m(\u001b[0m\u001b[1;34m'/local_data/alexnet-feats/iaprtc_trainlist.txt'\u001b[0m\u001b[1;33m)\u001b[0m\u001b[1;33m.\u001b[0m\u001b[0mread\u001b[0m\u001b[1;33m(\u001b[0m\u001b[1;33m)\u001b[0m\u001b[1;33m.\u001b[0m\u001b[0msplitlines\u001b[0m\u001b[1;33m(\u001b[0m\u001b[1;33m)\u001b[0m \u001b[1;33m]\u001b[0m\u001b[1;33m\u001b[0m\u001b[0m\n\u001b[0;32m      4\u001b[0m \u001b[0mtest_ims\u001b[0m \u001b[1;33m=\u001b[0m \u001b[1;33m[\u001b[0m \u001b[0mim\u001b[0m\u001b[1;33m.\u001b[0m\u001b[0msplit\u001b[0m\u001b[1;33m(\u001b[0m\u001b[1;34m'/'\u001b[0m\u001b[1;33m)\u001b[0m\u001b[1;33m[\u001b[0m\u001b[1;33m-\u001b[0m\u001b[1;36m1\u001b[0m\u001b[1;33m]\u001b[0m \u001b[1;32mfor\u001b[0m \u001b[0mim\u001b[0m \u001b[1;32min\u001b[0m \u001b[0mopen\u001b[0m\u001b[1;33m(\u001b[0m\u001b[1;34m'/local_data/alexnet-feats/iaprtc_testlist.txt'\u001b[0m\u001b[1;33m)\u001b[0m\u001b[1;33m.\u001b[0m\u001b[0mread\u001b[0m\u001b[1;33m(\u001b[0m\u001b[1;33m)\u001b[0m\u001b[1;33m.\u001b[0m\u001b[0msplitlines\u001b[0m\u001b[1;33m(\u001b[0m\u001b[1;33m)\u001b[0m \u001b[1;33m]\u001b[0m\u001b[1;33m\u001b[0m\u001b[0m\n\u001b[0;32m      5\u001b[0m \u001b[0mxTr\u001b[0m \u001b[1;33m=\u001b[0m \u001b[0mdata\u001b[0m\u001b[1;33m[\u001b[0m\u001b[1;34m'xTr'\u001b[0m\u001b[1;33m]\u001b[0m\u001b[1;33m.\u001b[0m\u001b[0mT\u001b[0m\u001b[1;33m\u001b[0m\u001b[0m\n",
      "\u001b[1;32m/opt/conda/lib/python2.7/site-packages/numpy/lib/npyio.pyc\u001b[0m in \u001b[0;36mload\u001b[1;34m(file, mmap_mode, allow_pickle, fix_imports, encoding)\u001b[0m\n\u001b[0;32m    360\u001b[0m     \u001b[0mown_fid\u001b[0m \u001b[1;33m=\u001b[0m \u001b[0mFalse\u001b[0m\u001b[1;33m\u001b[0m\u001b[0m\n\u001b[0;32m    361\u001b[0m     \u001b[1;32mif\u001b[0m \u001b[0misinstance\u001b[0m\u001b[1;33m(\u001b[0m\u001b[0mfile\u001b[0m\u001b[1;33m,\u001b[0m \u001b[0mbasestring\u001b[0m\u001b[1;33m)\u001b[0m\u001b[1;33m:\u001b[0m\u001b[1;33m\u001b[0m\u001b[0m\n\u001b[1;32m--> 362\u001b[1;33m         \u001b[0mfid\u001b[0m \u001b[1;33m=\u001b[0m \u001b[0mopen\u001b[0m\u001b[1;33m(\u001b[0m\u001b[0mfile\u001b[0m\u001b[1;33m,\u001b[0m \u001b[1;34m\"rb\"\u001b[0m\u001b[1;33m)\u001b[0m\u001b[1;33m\u001b[0m\u001b[0m\n\u001b[0m\u001b[0;32m    363\u001b[0m         \u001b[0mown_fid\u001b[0m \u001b[1;33m=\u001b[0m \u001b[0mTrue\u001b[0m\u001b[1;33m\u001b[0m\u001b[0m\n\u001b[0;32m    364\u001b[0m     \u001b[1;32melse\u001b[0m\u001b[1;33m:\u001b[0m\u001b[1;33m\u001b[0m\u001b[0m\n",
      "\u001b[1;31mIOError\u001b[0m: [Errno 2] No such file or directory: '/local_data/alexnet-feats/iaprtc_alexfc7.npz'"
     ]
    }
   ],
   "source": [
    "data = np.load('/local_data/alexnet-feats/iaprtc_alexfc7.npz')\n",
    "D = open('/local_data/alexnet-feats/iaprtc_dictionary.txt').read().splitlines()\n",
    "train_ims = [ im.split('/')[-1] for im in open('/local_data/alexnet-feats/iaprtc_trainlist.txt').read().splitlines() ]\n",
    "test_ims = [ im.split('/')[-1] for im in open('/local_data/alexnet-feats/iaprtc_testlist.txt').read().splitlines() ]\n",
    "xTr = data['xTr'].T\n",
    "yTr = data['yTr'].T\n",
    "xTe = data['xTe'].T\n",
    "yTe = data['yTe'].T\n",
    "wc = yTr.sum(axis=0)+0.00\n",
    "\n",
    "# Read w2vec\n",
    "output_dict = {}\n",
    "for i, line in enumerate(open('/work/attalos/models/glove.42B.300d.txt')):\n",
    "    first_word = line[:line.find(' ')]\n",
    "    if first_word in D:\n",
    "        line = line.strip().split(' ')\n",
    "        output_dict[line[0]] = np.array([ float(j) for j in line[1:]])\n",
    "    \n",
    "\n",
    "imfeatsize = xTr.shape[1]\n",
    "vocabsize = yTr.shape[1]\n",
    "wordvecsize = output_dict[output_dict.keys()[0]].shape[0]"
   ]
  },
  {
   "cell_type": "code",
   "execution_count": 4,
   "metadata": {
    "collapsed": true
   },
   "outputs": [],
   "source": [
    "BATCH_SIZE = 256\n",
    "HIDDEN_SIZE = 300\n",
    "RATE = .1"
   ]
  },
  {
   "cell_type": "markdown",
   "metadata": {},
   "source": [
    "### For a single feature, get the related training vectors\n",
    "\n",
    "Usage:  (im, veclist) = get_training_vectors( index_number )\n",
    "\n",
    "### For multiple features (in the list of indices), for each image feature, sum the training vectors"
   ]
  },
  {
   "cell_type": "code",
   "execution_count": 5,
   "metadata": {
    "collapsed": false
   },
   "outputs": [],
   "source": [
    "# Given an index into the corpus, get the corresponding image feature and all word vectors from it\n",
    "def get_training_vectors(index):\n",
    "    yTrList = []\n",
    "    for i in np.nonzero( yTr[index] )[0]:\n",
    "        yTrList.append( output_dict[ D[i] ] )\n",
    "    return (xTr[index], np.array(yTrList))\n",
    "\n",
    "def get_training_batch(indices):\n",
    "    \n",
    "    feats = []#np.zeros((len(indices),imfeatsize))\n",
    "    labels = []#np.zeros((len(indices),wordvecsize))\n",
    "    for j, i in enumerate(indices):\n",
    "        #feats[j, :], wordfeats = get_training_vectors(i)\n",
    "        feat, wordfeats = get_training_vectors(i)\n",
    "        feats.append(feat)\n",
    "        #labels[j, :] = wordfeats.sum(axis=0)\n",
    "        labels.append(wordfeats.sum(axis=0))\n",
    "    return (feats, labels)"
   ]
  },
  {
   "cell_type": "code",
   "execution_count": 6,
   "metadata": {
    "collapsed": true
   },
   "outputs": [],
   "source": [
    "# Given an index into the corpus, get the corresponding image feature and all word vectors from it\n",
    "def get_test_vectors(index):\n",
    "    yTeList = []\n",
    "    for i in np.nonzero( yTe[index] )[0]:\n",
    "        yTeList.append( output_dict[ D[i] ] )\n",
    "    return (xTe[index], np.array(yTeList))\n",
    "\n",
    "def get_test_batch(indices):\n",
    "    \n",
    "    feats = []#np.zeros((len(indices),imfeatsize))\n",
    "    labels = []#np.zeros((len(indices),wordvecsize))\n",
    "    for j, i in enumerate(indices):\n",
    "        #feats[j, :], wordfeats = get_training_vectors(i)\n",
    "        feat, wordfeats = get_test_vectors(i)\n",
    "        feats.append(feat)\n",
    "        #labels[j, :] = wordfeats.sum(axis=0)\n",
    "        labels.append(wordfeats.sum(axis=0))\n",
    "    return (feats, labels)"
   ]
  },
  {
   "cell_type": "code",
   "execution_count": 7,
   "metadata": {
    "collapsed": false
   },
   "outputs": [
    {
     "name": "stdout",
     "output_type": "stream",
     "text": [
      "4096\n"
     ]
    }
   ],
   "source": [
    "print imfeatsize"
   ]
  },
  {
   "cell_type": "code",
   "execution_count": null,
   "metadata": {
    "collapsed": false
   },
   "outputs": [],
   "source": [
    "# Linear Regression graph\n",
    "net = tflearn.input_data(shape=[None, imfeatsize])\n",
    "net = tflearn.layers.core.fully_connected(net, 300, activation='sigmoid')\n",
    "net = tflearn.layers.core.fully_connected(net, 300, activation='sigmoid')\n",
    "#net = tflearn.layers.core.fully_connected(net, 300)\n",
    "net = tflearn.regression(net, optimizer='adam', loss='binary_crossentropy')\n",
    "\n",
    "model = tflearn.DNN(net, tensorboard_verbose=3, tensorboard_dir='/tmp/tensorboard/')\n",
    "# loss_over_time = []\n",
    "\n",
    "# # print(\"\\nTest prediction for y = 3.2 and y = 4.5:\")\n",
    "\n",
    "\n",
    "    # print(m.predict([3.2, 4.5]))"
   ]
  },
  {
   "cell_type": "code",
   "execution_count": null,
   "metadata": {
    "collapsed": false
   },
   "outputs": [
    {
     "name": "stdout",
     "output_type": "stream",
     "text": [
      "Training Step: 39  | total loss: \u001b[1m\u001b[32m0.65213\u001b[0m\u001b[0m\n",
      "\u001b[2K\r",
      "| Adam | epoch: 000 | loss: 0.65213 -- iter: 04992/17665\n"
     ]
    }
   ],
   "source": [
    "imbatch, wordbatch = get_training_batch(np.arange(0, yTr.shape[0]))\n",
    "imbatch_te, wordbatch_te = get_test_batch(np.arange(0, yTe.shape[0]))\n",
    "model.fit(imbatch, wordbatch, validation_set=(imbatch_te, wordbatch_te), batch_size=128)"
   ]
  },
  {
   "cell_type": "code",
   "execution_count": null,
   "metadata": {
    "collapsed": false
   },
   "outputs": [],
   "source": [
    "# batch_size = 10000\n",
    "# for i in range(5):\n",
    "#     print(i)\n",
    "#     # Get a batch for training\n",
    "#     imbatch, wordbatch = get_training_batch(np.random.randint(0, yTr.shape[0], batch_size))\n",
    "#     #print(len(imbatch), len(imbatch[0]))\n",
    "#     model.fit(imbatch, wordbatch)\n",
    "#     #print(\"\\nRegression result:\")\n",
    "#     #print(\"Y = \" + str(model.get_weights(linear.W)) +\n",
    "#     #  \".X + \" + str(model.get_weights(linear.b)))"
   ]
  },
  {
   "cell_type": "code",
   "execution_count": null,
   "metadata": {
    "collapsed": true
   },
   "outputs": [],
   "source": []
  }
 ],
 "metadata": {
  "kernelspec": {
   "display_name": "Python 2",
   "language": "python",
   "name": "python2"
  },
  "language_info": {
   "codemirror_mode": {
    "name": "ipython",
    "version": 2
   },
   "file_extension": ".py",
   "mimetype": "text/x-python",
   "name": "python",
   "nbconvert_exporter": "python",
   "pygments_lexer": "ipython2",
   "version": "2.7.11"
  }
 },
 "nbformat": 4,
 "nbformat_minor": 0
}
