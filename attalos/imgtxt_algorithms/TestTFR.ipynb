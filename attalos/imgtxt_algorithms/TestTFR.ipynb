{
 "cells": [
  {
   "cell_type": "code",
   "execution_count": 18,
   "metadata": {
    "collapsed": false
   },
   "outputs": [],
   "source": [
    "import sys\n",
    "sys.path.append('/work/attalos/karllab41-attalos/')\n",
    "import argparse\n",
    "import gzip\n",
    "import numpy as np\n",
    "import tensorflow as tf\n",
    "from tensorflow.contrib import learn as learn\n",
    "import matplotlib.pylab as plt\n",
    "\n",
    "from attalos.dataset.dataset import Dataset\n",
    "from attalos.dataset.onehot import OneHot\n",
    "\n",
    "%matplotlib inline"
   ]
  },
  {
   "cell_type": "code",
   "execution_count": 2,
   "metadata": {
    "collapsed": false
   },
   "outputs": [],
   "source": [
    "xTr_file = '/data/features/image/mscoco_train2014_inception_uncompressed_0701.hdf5'\n",
    "xTr_file = '/data/features/image/iaprtc12_train_inception.hdf5'\n",
    "yTr_file = '/data/features/text/mscoco_train2014_text.json.gz'\n",
    "yTr_file = '/data/features/text/iaprtc12_train_text.json.gz'\n",
    "\n",
    "xTe_file = '/data/features/image/iaprtc12_test_inception.hdf5'\n",
    "yTe_file = '/data/features/text/iaprtc12_test_text.json.gz'\n",
    "\n",
    "train_dataset = Dataset(xTr_file, yTr_file)\n",
    "test_dataset = Dataset(xTr_file, yTr_file)\n",
    "onehot = OneHot([train_dataset, test_dataset])\n",
    "\n",
    "# print onehot.data_mapping\n",
    "# dataset_tags = set()\n",
    "# for dataset in [train_dataset]:\n",
    "#     for tags in dataset.text_feats.values():\n",
    "#         for tag in tags:\n",
    "#             dataset_tags.add(tag.replace(' ', '_'))"
   ]
  },
  {
   "cell_type": "code",
   "execution_count": 3,
   "metadata": {
    "collapsed": true
   },
   "outputs": [],
   "source": [
    "def train_dnn_regressor(image_feats, \n",
    "                        word_feats, \n",
    "                        regressor=None,\n",
    "                        hidden_units=[200,200]):\n",
    "    if regressor is None:\n",
    "        regressor = learn.TensorFlowDNNRegressor(hidden_units=hidden_units, \n",
    "                                                 steps=10, \n",
    "                                                 continue_training=True,\n",
    "                                                 verbose=0)\n",
    "    regressor.fit(image_feats, word_feats)\n",
    "    return regressor"
   ]
  },
  {
   "cell_type": "code",
   "execution_count": 9,
   "metadata": {
    "collapsed": false
   },
   "outputs": [],
   "source": [
    "from IPython.display import clear_output\n",
    "\n",
    "regressor_function = train_dnn_regressor; \n",
    "batch_size=128\n",
    "hidden_units=[200,200]\n",
    "    \n",
    "image_feats, text_tags = test_dataset.get_next_batch(batch_size)\n",
    "for i in range(batch_size):\n",
    "    image_feats[i, :] /= np.linalg.norm(image_feats[i, :])\n",
    "val_text_tags = np.array(map(onehot.get_multiple, text_tags))\n",
    "\n",
    "regressor = None\n",
    "for epoch in range(20):\n",
    "    for batch in range(int(train_dataset.num_images/batch_size)):\n",
    "        image_feats, text_tags = train_dataset.get_next_batch(batch_size)\n",
    "        for i in range(batch_size):\n",
    "            image_feats[i, :] /= np.linalg.norm(image_feats[i, :])\n",
    "        word_feats = np.array(map(onehot.get_multiple, text_tags))\n",
    "        regressor = train_dnn_regressor(image_feats, word_feats, regressor, hidden_units=hidden_units)\n",
    "        print(\"Epoch {}, BatchNo {}\".format(epoch, batch))\n",
    "        clear_output()"
   ]
  },
  {
   "cell_type": "markdown",
   "metadata": {},
   "source": [
    "## Prepare a file to be written out to the word2vec code"
   ]
  },
  {
   "cell_type": "markdown",
   "metadata": {},
   "source": [
    "### Reverse dictionary"
   ]
  },
  {
   "cell_type": "code",
   "execution_count": null,
   "metadata": {
    "collapsed": true
   },
   "outputs": [],
   "source": [
    "# Create reverse dictionary\n",
    "fwddict = onehot.data_mapping\n",
    "bckdict = ['onehot'] * onehot.vocab_size;\n",
    "for dictkey in fwddict:\n",
    "    bckdict[ fwddict[dictkey] ] = dictkey"
   ]
  },
  {
   "cell_type": "markdown",
   "metadata": {},
   "source": [
    "### Weights of the final layer"
   ]
  },
  {
   "cell_type": "code",
   "execution_count": 115,
   "metadata": {
    "collapsed": false
   },
   "outputs": [],
   "source": [
    "# Get the final weights from the optimizer function\n",
    "Wc = regressor.weights_[-1].T\n",
    "\n",
    "# Normalize if desired\n",
    "Wc /= np.linalg.norm(Wc,axis=1)[:,None]"
   ]
  },
  {
   "cell_type": "code",
   "execution_count": 119,
   "metadata": {
    "collapsed": false
   },
   "outputs": [
    {
     "data": {
      "text/plain": [
       "[array([-0.07590414, -0.02508961, -0.02022664, -0.00137483, -0.16465868,\n",
       "        -0.02889749, -0.04837446,  0.0169291 , -0.04138856, -0.0416892 ,\n",
       "        -0.10086012, -0.11905735, -0.15623811,  0.04444357,  0.01670133,\n",
       "        -0.02025465, -0.07446151, -0.05730958,  0.0828125 ,  0.08852769,\n",
       "        -0.04758041, -0.03296917, -0.02279255, -0.05245261, -0.13308807,\n",
       "        -0.03535907,  0.18981375, -0.04896884, -0.06028128, -0.04883436,\n",
       "        -0.0557026 ,  0.04439161,  0.00105747,  0.03204271, -0.07604173,\n",
       "        -0.04013797, -0.10636482, -0.08885053, -0.04063022, -0.13761815,\n",
       "         0.02796038, -0.02378296, -0.05810253, -0.02739257, -0.03879549,\n",
       "         0.00517381, -0.01674707, -0.02943473,  0.01427416, -0.13853873,\n",
       "        -0.02020191,  0.01691185,  0.00501648,  0.02194239,  0.02207491,\n",
       "        -0.1222863 , -0.06299523, -0.08270027, -0.07105076,  0.12674223,\n",
       "         0.03545761, -0.02627793, -0.05560167, -0.02002595, -0.02702051,\n",
       "        -0.00920878, -0.17041561, -0.22201359,  0.01328465, -0.05536227,\n",
       "        -0.03278188, -0.03777925, -0.0207779 , -0.0243429 , -0.00300728,\n",
       "        -0.05726158, -0.00604507, -0.19772591, -0.04638989, -0.16506155,\n",
       "        -0.0289594 , -0.06801908, -0.00589754,  0.16039924,  0.08846063,\n",
       "        -0.06939787,  0.00057862, -0.0287109 , -0.02733586, -0.00527764,\n",
       "        -0.03024508,  0.03550505, -0.05582465, -0.04439571, -0.02771368,\n",
       "         0.18404846, -0.03269279, -0.14713812, -0.0339919 , -0.01270468,\n",
       "        -0.06217676,  0.05816616,  0.00312959,  0.08750285,  0.08957631,\n",
       "        -0.10629825, -0.01202672, -0.0055068 , -0.04981315, -0.00508387,\n",
       "        -0.10929122, -0.09869058,  0.02657412,  0.00091484,  0.04224031,\n",
       "        -0.06742261, -0.01668686,  0.01215796, -0.03129018,  0.03088576,\n",
       "         0.00257424,  0.03197208,  0.02025111, -0.00060963, -0.07951929,\n",
       "        -0.004378  , -0.00277603, -0.14465259,  0.01337775, -0.07801563,\n",
       "        -0.10289997, -0.02261264,  0.00966875, -0.0005206 , -0.05827851,\n",
       "         0.00058026, -0.04463978, -0.0582162 , -0.03765318, -0.01452052,\n",
       "         0.0035517 , -0.01986135, -0.07576566, -0.024168  , -0.03736591,\n",
       "        -0.09696755, -0.09706011, -0.02928929, -0.12951496, -0.04036075,\n",
       "        -0.07607365,  0.10154062, -0.0455156 , -0.09668782, -0.05335085,\n",
       "        -0.03653063, -0.05579   , -0.04666882, -0.00618474, -0.15641111,\n",
       "        -0.03342129, -0.09396908,  0.02779249, -0.04960921, -0.07298394,\n",
       "        -0.05245196, -0.00169871, -0.03062342, -0.04567792,  0.08166198,\n",
       "        -0.11096869,  0.10363896, -0.13039863, -0.07591169, -0.02768451,\n",
       "        -0.01704153, -0.15943795, -0.05036077, -0.16295893,  0.02466483,\n",
       "        -0.00762732, -0.09494876,  0.04780355, -0.13015617, -0.02733456,\n",
       "        -0.12246786, -0.05294052, -0.08290018,  0.00674179, -0.04394155,\n",
       "        -0.0369259 , -0.03867002, -0.06992222, -0.03397945, -0.00368893,\n",
       "        -0.02752378, -0.04364759,  0.04836879, -0.11270922,  0.1196481 ], dtype=float32),\n",
       " array([-0.04754435,  0.23589876, -0.12707646,  0.02509937,  0.08192515,\n",
       "        -0.05746106,  0.33256131, -0.08163513, -0.04768569, -0.04259892,\n",
       "         0.0125727 , -0.09178775, -0.0099993 ,  0.11342479,  0.10174067,\n",
       "         0.05921344,  0.04228784,  0.1263708 , -0.063271  ,  0.06354975,\n",
       "        -0.11376204, -0.0282712 , -0.02369572, -0.00211742,  0.30794981,\n",
       "         0.0937269 ,  0.06139379,  0.12278122,  0.03921507,  0.09538599,\n",
       "         0.02426182,  0.08532155, -0.05051924,  0.10440732,  0.06897516,\n",
       "         0.09409254, -0.04611357, -0.03935605,  0.10807162, -0.05965161,\n",
       "        -0.07587744, -0.04908357,  0.1185081 ,  0.02155733, -0.10352003,\n",
       "         0.07660905,  0.22292189,  0.1039407 , -0.10488189,  0.05978057,\n",
       "         0.1834542 ,  0.32810697, -0.14033458, -0.02441021,  0.12980872,\n",
       "        -0.06799151,  0.06083809, -0.08809415, -0.1094647 ,  0.07108492,\n",
       "         0.10214575,  0.04386644,  0.12370106, -0.16730423, -0.14680137,\n",
       "        -0.05212082,  0.03567205,  0.07625889, -0.05516994,  0.0709587 ,\n",
       "        -0.05950398, -0.02920291, -0.05534658, -0.04690101,  0.05007751,\n",
       "         0.07848304,  0.04730448, -0.04096144,  0.03447653,  0.095305  ,\n",
       "        -0.10962483,  0.12770931,  0.06253169,  0.20957597,  0.09072457,\n",
       "        -0.01098047, -0.06340285,  0.11265497,  0.06181267,  0.16902655,\n",
       "         0.0713047 ,  0.15875724,  0.22109121,  0.05995329,  0.17195715,\n",
       "        -0.04980344,  0.14772585,  0.04917656,  0.06959715, -0.1188987 ,\n",
       "        -0.06785683, -0.01690539, -0.02179768,  0.20210603, -0.11427686,\n",
       "         0.15938593, -0.07508408, -0.0882211 ,  0.08389195,  0.16817191,\n",
       "        -0.04214699, -0.08530477,  0.06544089, -0.00777146,  0.12516625,\n",
       "         0.07199652,  0.1114395 , -0.10285094, -0.05831147,  0.00385079,\n",
       "         0.0599819 , -0.05176649,  0.17002223, -0.04391463, -0.35630476,\n",
       "         0.08037632, -0.13790847,  0.06751321,  0.00872262,  0.23521909,\n",
       "         0.1331501 ,  0.07212404,  0.05276764,  0.02184108,  0.0537488 ,\n",
       "         0.08141571,  0.02971293,  0.06086444, -0.07324578, -0.02075099,\n",
       "        -0.03599443, -0.05057456,  0.07538722,  0.07099619, -0.0989119 ,\n",
       "         0.06558203, -0.09012918, -0.10491714,  0.08802328,  0.03587977,\n",
       "         0.077011  ,  0.10644675,  0.08987679, -0.10708701,  0.15449184,\n",
       "        -0.11144283, -0.14068162,  0.00268673, -0.05355901, -0.10253469,\n",
       "         0.03249548,  0.06943175, -0.00308531, -0.18860637,  0.02065977,\n",
       "         0.03707641,  0.11798185,  0.07694333, -0.05369623,  0.07724471,\n",
       "         0.07487968,  0.30817109, -0.0096829 , -0.1450239 , -0.0359823 ,\n",
       "        -0.09622897,  0.06259699,  0.02885832, -0.04837607,  0.21842429,\n",
       "        -0.0187381 ,  0.06388364, -0.11283864, -0.05915568,  0.12957631,\n",
       "        -0.11512115,  0.31844586,  0.09681004, -0.02730641, -0.09789697,\n",
       "         0.02714611,  0.12846619,  0.26631188, -0.12043961,  0.06881584,\n",
       "        -0.06955761,  0.17330925,  0.14438449,  0.10304774, -0.00412529], dtype=float32),\n",
       " array([  4.79463160e-01,   1.10759094e-01,  -1.17692506e+00,\n",
       "          6.98752582e-01,   3.18192959e-01,   3.63698334e-01,\n",
       "         -6.90022528e-01,   7.35002756e-02,  -1.41239136e-01,\n",
       "         -1.13979745e+00,   1.12611854e+00,   8.47114205e-01,\n",
       "         -1.20608902e+00,   4.53134030e-01,   2.36008018e-01,\n",
       "          3.74279708e-01,   5.10370396e-02,  -4.92124766e-01,\n",
       "         -5.58653116e-01,   5.90581238e-01,   9.97956932e-01,\n",
       "         -1.07127023e+00,   2.14436144e-01,  -8.47639084e-01,\n",
       "          1.10696757e+00,   1.18054175e+00,  -5.88091910e-01,\n",
       "          7.51380682e-01,   9.90608096e-01,  -7.46453285e-01,\n",
       "          3.03646773e-01,   9.03562486e-01,  -1.65664330e-01,\n",
       "         -1.74659550e-01,  -4.83358413e-01,  -4.22594190e-01,\n",
       "          1.12966979e+00,  -3.36907923e-01,  -2.12258592e-01,\n",
       "         -9.44223702e-01,  -6.18663073e-01,  -3.90245587e-01,\n",
       "         -9.15857852e-01,  -3.84015113e-01,  -1.01238847e+00,\n",
       "         -1.13489950e+00,   1.04234779e+00,  -1.22815168e+00,\n",
       "          4.04618084e-02,  -1.20108902e+00,   7.07576692e-01,\n",
       "         -1.17439449e+00,   1.15816808e+00,  -4.82900530e-01,\n",
       "         -3.95897537e-01,  -1.31569713e-01,   7.60445476e-01,\n",
       "          7.10483715e-02,  -6.05057776e-01,   7.53021799e-04,\n",
       "         -3.24485809e-01,   5.82414269e-01,   7.27404580e-02,\n",
       "          2.96706796e-01,   3.21513981e-01,   9.60749164e-02,\n",
       "         -7.46567845e-01,   4.97388929e-01,  -4.05243963e-01,\n",
       "         -1.89834505e-01,   1.47161894e-02,   6.69588596e-02,\n",
       "          5.37483208e-02,  -9.66349125e-01,   3.49017262e-01,\n",
       "         -4.81518477e-01,  -7.75521994e-01,   1.07000828e+00,\n",
       "          4.20620710e-01,  -5.14516056e-01,   1.26786888e+00,\n",
       "         -6.22967303e-01,   7.42559880e-02,   4.46608722e-01,\n",
       "         -1.08353519e+00,  -9.33497787e-01,  -8.70778188e-02,\n",
       "          1.21034944e+00,   1.01712954e+00,   9.23762381e-01,\n",
       "         -1.04643367e-01,   5.71700215e-01,   9.06767070e-01,\n",
       "          9.78990018e-01,   1.21431875e+00,  -1.07648993e+00,\n",
       "          4.88489300e-01,   1.19807160e+00,   5.20630658e-01,\n",
       "          4.12893653e-01,   1.23939264e+00,   9.88412917e-01,\n",
       "          7.48593509e-01,  -1.18694186e+00,   6.26721978e-01,\n",
       "          5.56327879e-01,  -1.82999909e-01,   4.26007569e-01,\n",
       "          4.77985501e-01,  -4.35375720e-02,   8.06121379e-02,\n",
       "         -2.39929587e-01,  -1.81711349e-03,   9.76983979e-02,\n",
       "          9.19743598e-01,  -4.95688260e-01,   1.59625918e-01,\n",
       "         -5.09554684e-01,  -4.61236298e-01,   2.13593602e-01,\n",
       "         -4.94475543e-01,   2.94795483e-01,   1.65305033e-01,\n",
       "         -9.20212567e-01,  -3.56385171e-01,  -7.37317979e-01,\n",
       "          9.90433455e-01,   2.73397237e-01,   1.03710711e+00,\n",
       "          5.46132267e-01,   6.89686000e-01,   7.01448143e-01,\n",
       "          1.08922136e+00,  -1.10048652e+00,   6.80865824e-01,\n",
       "         -1.07289445e+00,   9.52888727e-01,  -5.24296582e-01,\n",
       "         -4.86183763e-01,  -6.40874326e-01,   1.77556023e-01,\n",
       "         -3.78755718e-01,   5.42858899e-01,   5.18690467e-01,\n",
       "          3.60679209e-01,  -1.74196020e-01,  -1.46236256e-01,\n",
       "         -1.05291426e+00,  -7.80564845e-01,  -2.33122870e-01,\n",
       "         -3.68815869e-01,   1.96425915e-01,  -2.71980137e-01,\n",
       "          1.07570517e+00,   1.15644884e+00,  -2.39014462e-01,\n",
       "         -3.41836125e-01,   1.82429403e-01,   1.89540666e-02,\n",
       "         -1.05564155e-01,   1.70851260e-01,   8.66382480e-01,\n",
       "          5.51311314e-01,  -8.27357650e-01,  -5.36996961e-01,\n",
       "          3.19429114e-02,   8.83526385e-01,  -8.19137156e-01,\n",
       "          8.55663955e-01,  -7.56708384e-01,  -7.22504803e-04,\n",
       "         -9.39130783e-02,  -8.77900064e-01,  -1.06631696e+00,\n",
       "         -2.99513221e-01,  -5.10431707e-01,  -1.83854729e-01,\n",
       "         -1.21596706e+00,  -8.18658948e-01,   1.46870106e-01,\n",
       "         -6.46586359e-01,   2.46971726e-01,   3.89900565e-01,\n",
       "         -1.30973175e-01,  -6.21333063e-01,  -2.58311063e-01,\n",
       "         -1.20222759e+00,   4.02752697e-01,   6.18306816e-01,\n",
       "          8.89129758e-01,   9.55624640e-01,  -1.06950432e-01,\n",
       "          3.46129835e-01,   4.26699698e-01,  -9.48845088e-01,\n",
       "         -2.67056543e-02,   4.30696964e-01,   3.52669954e-01,\n",
       "         -7.73511291e-01,   9.41404402e-01,  -2.62404293e-01,\n",
       "         -2.64647300e-03,  -3.85464370e-01,  -4.81785610e-02,\n",
       "         -3.48812848e-01,  -1.07890952e+00,   1.17366457e+00,\n",
       "          9.91869450e-01,  -6.13465667e-01,  -3.60565841e-01,\n",
       "         -8.61976147e-01,  -1.76453337e-01,   1.96559295e-01,\n",
       "         -1.31359056e-01,   4.00787711e-01,   9.76273298e-01,\n",
       "         -8.43507111e-01,   4.84214067e-01,   6.90548062e-01,\n",
       "         -3.50095481e-02,  -7.20087528e-01,   6.95770919e-01,\n",
       "          5.55120409e-01,   2.74750978e-01,  -3.19065362e-01,\n",
       "         -1.18017197e+00,  -4.90899354e-01,   8.45472991e-01,\n",
       "         -3.70606214e-01,  -1.28705621e-01,  -1.10618798e-02,\n",
       "         -6.79124892e-01,   9.26549509e-02,  -7.59187102e-01,\n",
       "          2.65356213e-01,   6.98984683e-01,   2.88569808e-01,\n",
       "          8.90107453e-01,   2.56923497e-01,  -1.14561129e+00,\n",
       "          2.50533283e-01,  -4.50343311e-01,  -1.05115008e+00,\n",
       "         -8.87227893e-01,   1.06445324e+00,  -1.05752397e+00,\n",
       "         -6.33467376e-01,  -9.52588171e-02,  -9.59558904e-01,\n",
       "         -1.93335880e-02,  -1.17592251e+00,  -1.24544732e-01,\n",
       "          4.99979705e-01,  -6.14960968e-01,   1.25611520e+00,\n",
       "         -9.66580987e-01,  -6.66529655e-01,   1.19164634e+00,\n",
       "         -6.06554031e-01,   9.88614857e-01,   1.18980813e+00,\n",
       "         -4.37145025e-01,   1.90814763e-01,  -1.19145083e+00,\n",
       "          8.40689719e-01,  -4.59737003e-01,   1.03936779e+00,\n",
       "          7.69722044e-01,   4.05437201e-01,   2.00431682e-02,\n",
       "         -5.50960064e-01,   6.67071283e-01,   1.00196160e-01,\n",
       "          1.19857979e+00,  -5.74646473e-01,  -8.31279635e-01,\n",
       "          3.89100164e-01,  -2.66513735e-01,  -1.09495664e+00,\n",
       "         -9.74020138e-02,   7.89403915e-01,  -7.99498856e-01,\n",
       "         -4.83437836e-01,  -1.22162485e+00,  -7.07577765e-02,\n",
       "          1.78340614e-01,  -6.63873613e-01,   9.15778935e-01,\n",
       "         -5.83458133e-02,  -8.67422000e-02,   8.81361723e-01], dtype=float32)]"
      ]
     },
     "execution_count": 119,
     "metadata": {},
     "output_type": "execute_result"
    }
   ],
   "source": [
    "regressor.bias_"
   ]
  },
  {
   "cell_type": "markdown",
   "metadata": {},
   "source": [
    "### Write the final weights to file"
   ]
  },
  {
   "cell_type": "code",
   "execution_count": 116,
   "metadata": {
    "collapsed": true
   },
   "outputs": [],
   "source": [
    "fp = open('imvecs_directnorm.txt','wb')\n",
    "fp.write(\"%s %s\\n\" % (str(Wc.shape[0]), str(Wc.shape[1]))) \n",
    "for i in range(len(bckdict)):\n",
    "    fp.write('%s ' % (str(bckdict[i])))\n",
    "    for j in range(Wc.shape[1]):\n",
    "        fp.write('%s ' %(str(Wc[i,j])))\n",
    "    fp.write(\"\\n\")\n",
    "fp.close()"
   ]
  },
  {
   "cell_type": "markdown",
   "metadata": {},
   "source": [
    "## Evaluation"
   ]
  },
  {
   "cell_type": "code",
   "execution_count": 20,
   "metadata": {
    "collapsed": true
   },
   "outputs": [],
   "source": [
    "image_feats, text_tags = test_dataset.get_next_batch(test_dataset.num_images)\n",
    "for i in range(batch_size):\n",
    "    image_feats[i, :] /= np.linalg.norm(image_feats[i, :])\n",
    "true_text_tags = np.array(map(onehot.get_multiple, text_tags))\n",
    "\n",
    "text_pred = regressor.predict(image_feats)"
   ]
  },
  {
   "cell_type": "code",
   "execution_count": 26,
   "metadata": {
    "collapsed": false
   },
   "outputs": [
    {
     "name": "stdout",
     "output_type": "stream",
     "text": [
      "0.310790402936\n",
      "0.200218828364\n",
      "0.243541942224\n"
     ]
    }
   ],
   "source": [
    "from oct2py import octave\n",
    "octave.addpath('../evaluation/')\n",
    "[precision, recall, f1score] = octave.evaluate(true_text_tags.T, text_pred.T, 5)\n",
    "print precision\n",
    "print recall\n",
    "print f1score"
   ]
  },
  {
   "cell_type": "markdown",
   "metadata": {},
   "source": [
    "### Check Yonas's Code"
   ]
  },
  {
   "cell_type": "markdown",
   "metadata": {},
   "source": [
    "### Had to rewrite top $k$ to use evaluation matrix."
   ]
  },
  {
   "cell_type": "code",
   "execution_count": null,
   "metadata": {
    "collapsed": true
   },
   "outputs": [],
   "source": [
    "def get_top_k(text_corr, reverse_dictionary, topk=5):\n",
    "    \n",
    "    ## My new code to fit the correlation matrix instead\n",
    "    indices = text_corr.argsort()[-1:-(topk+1):-1]\n",
    "    return [reverse_dictionary[i] for i in indices]\n",
    "\n",
    "    mh = MinHeap(k)\n",
    "    for word in w2v_lookup:\n",
    "        mh.insert(distance_func(target_vector, w2v_lookup[word]), word)\n",
    "    return mh.get_result()"
   ]
  },
  {
   "cell_type": "code",
   "execution_count": 87,
   "metadata": {
    "collapsed": false
   },
   "outputs": [
    {
     "data": {
      "text/plain": [
       "(0.42206623266345888, 0.38634658161851165, 0.38211745751893539)"
      ]
     },
     "execution_count": 87,
     "metadata": {},
     "output_type": "execute_result"
    }
   ],
   "source": [
    "def calculate_precision(ground_truth, predicted):\n",
    "    ground_truth_set = set(ground_truth)\n",
    "    predicted_set = set(predicted)\n",
    "    return float(len(ground_truth_set.intersection(predicted_set)))/len(predicted_set)\n",
    "\n",
    "def calculate_recall(ground_truth, predicted):\n",
    "    ground_truth_set = set(ground_truth)\n",
    "    predicted_set = set(predicted)\n",
    "    return float(len(ground_truth_set.intersection(predicted_set)))/len(ground_truth_set)\n",
    "\n",
    "\n",
    "def get_pr(ground_truths, predictions):\n",
    "    precisions = []\n",
    "    recalls = []\n",
    "    f1s = []\n",
    "    for i in range(len(ground_truths)):\n",
    "        precision = calculate_precision(ground_truths[i], predictions[i])\n",
    "        recall = calculate_recall(ground_truths[i], predictions[i])\n",
    " \n",
    "        if precision == 0 and recall == 0:\n",
    "            f1 = 0\n",
    "        else:\n",
    "            f1 = 2*precision*recall/(precision + recall)\n",
    " \n",
    "        precisions.append(precision)\n",
    "        recalls.append(recall)\n",
    "        f1s.append(f1)\n",
    "    return np.mean(precisions), np.mean(recalls),  np.mean(f1s)\n",
    "\n",
    "def evaluate_regressor(regressor, val_image_feats, val_text_tags, w2v_model, k=5):\n",
    "    \"\"\"\n",
    "    Takes a regressor and returns the precision/recall on the test data\n",
    "    Args:\n",
    "        regressor: a tensorflow.contrib.learn regression estimator\n",
    "        val_image_feats: Image features to test performance on\n",
    "        val_text_tags: Text Tags to test performance on\n",
    "        w2v_model: a dictionary like object where the keys are words and the values are word vectors\n",
    "        k: Top number of items to retrieve to test precision/recall on\n",
    "\n",
    "    Returns:\n",
    "        (precision, recall, f1): A tuple of precision, recall, and F1 score\n",
    "    \"\"\"\n",
    "    val_pred = regressor.predict(val_image_feats)\n",
    "    topks = []\n",
    "    for i in range(val_pred.shape[0]):\n",
    "        topk = get_top_k(val_pred[i, :]/np.linalg.norm(val_pred[i, :]), w2v_model, k)        \n",
    "        topks.append(topk)\n",
    "\n",
    "    return get_pr(val_text_tags, topks)\n",
    "\n",
    "\n",
    "# Create reverse dictionary\n",
    "fwddict = onehot.data_mapping\n",
    "bckdict = ['onehot'] * onehot.vocab_size;\n",
    "for dictkey in fwddict:\n",
    "    bckdict[ fwddict[dictkey] ] = dictkey\n",
    "\n",
    "evaluate_regressor(regressor, image_feats, text_tags, bckdict)"
   ]
  },
  {
   "cell_type": "code",
   "execution_count": 41,
   "metadata": {
    "collapsed": false
   },
   "outputs": [],
   "source": [
    "regressor.weights_[2].shape\n",
    "onehot.create_data_mapping?"
   ]
  }
 ],
 "metadata": {
  "kernelspec": {
   "display_name": "Python 2",
   "language": "python",
   "name": "python2"
  },
  "language_info": {
   "codemirror_mode": {
    "name": "ipython",
    "version": 2
   },
   "file_extension": ".py",
   "mimetype": "text/x-python",
   "name": "python",
   "nbconvert_exporter": "python",
   "pygments_lexer": "ipython2",
   "version": "2.7.12"
  }
 },
 "nbformat": 4,
 "nbformat_minor": 0
}
