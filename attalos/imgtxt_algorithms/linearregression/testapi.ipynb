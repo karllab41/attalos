{
 "cells": [
  {
   "cell_type": "code",
   "execution_count": 1,
   "metadata": {
    "collapsed": false
   },
   "outputs": [],
   "source": [
    "import numpy as np\n",
    "import matplotlib.pylab as plt"
   ]
  },
  {
   "cell_type": "code",
   "execution_count": 2,
   "metadata": {
    "collapsed": true
   },
   "outputs": [],
   "source": [
    "%matplotlib inline"
   ]
  },
  {
   "cell_type": "code",
   "execution_count": 3,
   "metadata": {
    "collapsed": false
   },
   "outputs": [],
   "source": [
    "data = np.load('data/iaprtc_alexfc7.npz')\n",
    "D = open('data/iaprtc_dictionary.txt').read().splitlines()\n",
    "train_ims = [ im.split('/')[-1] for im in open('data/iaprtc_trainlist.txt').read().splitlines() ]\n",
    "xTr = data['xTr'].T\n",
    "yTr = data['yTr'].T\n",
    "xTe = data['xTe'].T\n",
    "yTe = data['yTe'].T\n",
    "\n",
    "test_ims_full = [ im for im in open('data/iaprtc_testlist.txt').read().splitlines() ]\n",
    "train_ims_full = [ im for im in open('data/iaprtc_trainlist.txt').read().splitlines() ]"
   ]
  },
  {
   "cell_type": "code",
   "execution_count": 18,
   "metadata": {
    "collapsed": false
   },
   "outputs": [
    {
     "name": "stdout",
     "output_type": "stream",
     "text": [
      "Building W matrix = Y \\ X = Y^T X (X X^T)^-1\n"
     ]
    }
   ],
   "source": [
    "import linear2hot\n",
    "reload(linear2hot)\n",
    "linreg = linear2hot.LinearRegression(normX = True)"
   ]
  },
  {
   "cell_type": "code",
   "execution_count": 19,
   "metadata": {
    "collapsed": false
   },
   "outputs": [
    {
     "data": {
      "text/plain": [
       "array([[ 0.02999723, -0.26447576, -0.04068445, ...,  0.13898072,\n",
       "        -0.04043614, -0.18117163],\n",
       "       [ 0.18251617,  0.21352139,  0.08911663, ...,  0.3372879 ,\n",
       "        -0.00799049, -0.12384191],\n",
       "       [ 0.18155839, -0.04084894,  0.06565234, ...,  0.31555581,\n",
       "         0.08378805, -0.09338826],\n",
       "       ..., \n",
       "       [-0.19481015,  0.85106182, -0.59857082, ...,  0.38602972,\n",
       "        -0.19469219, -0.22159863],\n",
       "       [ 0.04103813, -0.08072689, -0.0777494 , ..., -0.40240633,\n",
       "         0.03318405, -0.17808414],\n",
       "       [-0.06491323,  0.0071897 ,  0.06525292, ..., -0.04523634,\n",
       "         0.0638811 ,  0.1326232 ]], dtype=float32)"
      ]
     },
     "execution_count": 19,
     "metadata": {},
     "output_type": "execute_result"
    }
   ],
   "source": [
    "linreg.train(xTr, yTr)\n",
    "yHat = linreg.predict(xTe)"
   ]
  }
 ],
 "metadata": {
  "kernelspec": {
   "display_name": "Python 2",
   "language": "python",
   "name": "python2"
  },
  "language_info": {
   "codemirror_mode": {
    "name": "ipython",
    "version": 2
   },
   "file_extension": ".py",
   "mimetype": "text/x-python",
   "name": "python",
   "nbconvert_exporter": "python",
   "pygments_lexer": "ipython2",
   "version": "2.7.11"
  }
 },
 "nbformat": 4,
 "nbformat_minor": 0
}
