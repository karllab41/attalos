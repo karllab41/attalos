{
 "cells": [
  {
   "cell_type": "markdown",
   "metadata": {},
   "source": [
    "# Theano version of positive/negative samples"
   ]
  },
  {
   "cell_type": "code",
   "execution_count": 1,
   "metadata": {
    "collapsed": false
   },
   "outputs": [
    {
     "name": "stderr",
     "output_type": "stream",
     "text": [
      "Using gpu device 0: GeForce GTX TITAN X (CNMeM is disabled, cuDNN 4007)\n"
     ]
    }
   ],
   "source": [
    "import numpy as np\n",
    "from collections import OrderedDict\n",
    "import os\n",
    "os.environ[\"THEANO_FLAGS\"] = \"mode=FAST_RUN,device=gpu0,floatX=float32\"\n",
    "\n",
    "import theano.tensor as T\n",
    "import theano\n",
    "import sys\n",
    "sys.path.append('../')\n",
    "import negsamp\n",
    "import matplotlib.pylab as plt\n",
    "from progressbar import ProgressBar as progressbar \n",
    "%matplotlib inline"
   ]
  },
  {
   "cell_type": "markdown",
   "metadata": {},
   "source": [
    "## Parameter specification"
   ]
  },
  {
   "cell_type": "code",
   "execution_count": 20,
   "metadata": {
    "collapsed": false
   },
   "outputs": [],
   "source": [
    "# Params\n",
    "m = 45               # number of negative samples\n",
    "f = 4096\n",
    "hidden1 = 200\n",
    "hidden2 = 200\n",
    "d = 200              # word vector size\n",
    "V = 291\n",
    "wdecay = 0.01        # weight decay\n",
    "\n",
    "numlayers = 3\n",
    "lr = 100\n",
    "epochs = 10000\n",
    "batchsize=256\n",
    "weightfile = None # 'params-2x_0609.npz'\n",
    "saveparams = 'params-2x_0704.npz'\n",
    "pretrain = False"
   ]
  },
  {
   "cell_type": "code",
   "execution_count": 21,
   "metadata": {
    "collapsed": false
   },
   "outputs": [
    {
     "name": "stdout",
     "output_type": "stream",
     "text": [
      "\u001b[0m\u001b[01;32mdata/iaprtc_alexfc7.npz\u001b[0m*     \u001b[01;32mdata/iaprtc_testlist.txt\u001b[0m*\r\n",
      "\u001b[01;32mdata/iaprtc_dictionary.txt\u001b[0m*  \u001b[01;32mdata/iaprtc_trainlist.txt\u001b[0m*\r\n",
      "\r\n",
      "data/wiki-glove:\r\n",
      "glove.6B.100d.txt  glove.6B.300d.txt  glove.6B.zip\r\n",
      "glove.6B.200d.txt  glove.6B.50d.txt\r\n"
     ]
    }
   ],
   "source": [
    "ls data/*"
   ]
  },
  {
   "cell_type": "markdown",
   "metadata": {},
   "source": [
    "## Data ingestion. Currently just read in numpy files."
   ]
  },
  {
   "cell_type": "code",
   "execution_count": 22,
   "metadata": {
    "collapsed": false
   },
   "outputs": [],
   "source": [
    "data = np.load('data/iaprtc_alexfc7.npz')\n",
    "D = open('data/iaprtc_dictionary.txt').read().splitlines()\n",
    "train_ims = [ im.split('/')[-1] for im in open('data/iaprtc_trainlist.txt').read().splitlines() ]\n",
    "test_ims = [ im.split('/')[-1] for im in open('data/iaprtc_testlist.txt').read().splitlines() ]\n",
    "xTr = data['xTr'].T\n",
    "yTr = data['yTr'].T\n",
    "xTe = data['xTe'].T\n",
    "yTe = data['yTe'].T\n",
    "wc = yTr.sum(axis=0)+0.01-0.01"
   ]
  },
  {
   "cell_type": "markdown",
   "metadata": {},
   "source": [
    "## Load in parameters/weights"
   ]
  },
  {
   "cell_type": "code",
   "execution_count": 23,
   "metadata": {
    "collapsed": false
   },
   "outputs": [
    {
     "name": "stdout",
     "output_type": "stream",
     "text": [
      "Initialized higher-order layers to (200, 4096), (200, 200)\n",
      "Initialized Wi, and Wc shapes: (200, 4096),(200, 200),(291, 200)\n"
     ]
    }
   ],
   "source": [
    "if weightfile and pretrain:\n",
    "    Wi = theano.shared(np.load(weightfile)['Wi'])\n",
    "    if numlayers >= 2:\n",
    "        Wh2 = theano.shared(np.random.ranf((hidden1, f)))\n",
    "    elif numlayers >= 3:\n",
    "        Wh3 = theano.shared(np.random.ranf((hidden2, hidden1)))\n",
    "    Wc = theano.shared(np.load(weightfile)['Wc'])\n",
    "elif weightfile:\n",
    "    Wi = theano.shared(np.load(weightfile)['Wi'])\n",
    "    if numlayers >= 2:\n",
    "        Wh2 = theano.shared(np.load(weightfile)['Wh2'])\n",
    "    if numlayers >= 3:\n",
    "        Wh3 = theano.shared(np.load(weightfile)['Wh3'])\n",
    "    Wc = theano.shared(np.load(weightfile)['Wc'])\n",
    "    progloss = np.load(weightfile)['Losses']\n",
    "else:\n",
    "    # Need to change these to normal distributed\n",
    "    if numlayers == 2:\n",
    "        Wh2 = theano.shared(0.01*(np.random.ranf((hidden1, f))-0.5) )\n",
    "        Wi = theano.shared(0.01*(np.random.ranf((d, hidden1))-0.5) )\n",
    "    if numlayers == 3:\n",
    "        Wh2 = theano.shared(0.01*(np.random.ranf((hidden1, f))-0.5) )\n",
    "        Wh3 = theano.shared(0.01*(np.random.ranf((hidden2, hidden1))-0.5) )\n",
    "        Wi = theano.shared(0.01*(np.random.ranf((d, hidden2))-0.5) )\n",
    "        print \"Initialized higher-order layers to {}, {}\".format(Wh2.get_value().shape, Wh3.get_value().shape)\n",
    "    Wc = theano.shared(0.01*(np.random.ranf((V, d))-0.5) )\n",
    "    progloss= np.array([])\n",
    "    print \"Initialized Wi, and Wc shapes: {},{},{}\".format(Wh2.get_value().shape,Wi.get_value().shape,Wc.get_value().shape)"
   ]
  },
  {
   "cell_type": "markdown",
   "metadata": {},
   "source": [
    "## Helper and utility functions"
   ]
  },
  {
   "cell_type": "code",
   "execution_count": 24,
   "metadata": {
    "collapsed": false
   },
   "outputs": [],
   "source": [
    "def showdata( Wcn, minblk=True, thetitle=None, colorbar=False, blackwhite=False ):\n",
    "    if minblk:\n",
    "        Wcmind1 = np.array(Wcn.shape).min()\n",
    "        Wcmind2 = np.array(Wcn.shape).min()\n",
    "    else:\n",
    "        Wcmind1 = Wcn.shape[0]\n",
    "        Wcmind2 = Wcn.shape[1]\n",
    "    plt.figure\n",
    "    if blackwhite:\n",
    "        print '%d, %d'%(Wcmind1,Wcmind2)\n",
    "        plt.imshow(Wcn[:Wcmind1,:Wcmind2], cmap='Greys_r', interpolation='nearest')\n",
    "    else:\n",
    "        plt.imshow(Wcn[:Wcmind1,:Wcmind2]);\n",
    "    if thetitle:\n",
    "        plt.title(thetitle)\n",
    "    if colorbar:\n",
    "        plt.colorbar()\n",
    "    plt.show()\n",
    "\n",
    "    \n",
    "# Define the sigmoid function\n",
    "def sigmoid(x):\n",
    "    return 1 / (1 + np.exp(-x))\n",
    "\n",
    "# Define rectified linear unit (relu)\n",
    "def relu(x):\n",
    "    return np.maximum(x, 0)"
   ]
  },
  {
   "cell_type": "markdown",
   "metadata": {},
   "source": [
    "## Mathy Part\n",
    "\n",
    "### Cost Function:\n",
    "1. One Layer: $$ y_p = \\sigma(W_c W_i x^T) $$\n",
    "2. Two Layers: $$ y_p = \\sigma( W_c W_i \\sigma( W_h x^T )) $$\n",
    "\n",
    "We are doing SGD only (no momentum)"
   ]
  },
  {
   "cell_type": "code",
   "execution_count": 25,
   "metadata": {
    "collapsed": false
   },
   "outputs": [],
   "source": [
    "# Negative sampler\n",
    "ns = negsamp.NegativeSampler(wc / wc.sum())\n",
    "\n",
    "# Define functionality\n",
    "x = T.matrix()\n",
    "p = T.matrix()\n",
    "n = T.matrix()\n",
    "\n",
    "# Cross correlation\n",
    "if numlayers==1:\n",
    "    xcorr = Wc.dot(Wi.dot(x.T)).T\n",
    "elif numlayers==2:\n",
    "    # xcorr = Wc.dot(Wi.dot(T.nnet.sigmoid(Wh2.dot(x.T)))).T\n",
    "    xcorr = Wc.dot(Wi.dot(T.nnet.relu(Wh2.dot(x.T)))).T\n",
    "elif numlayers==3:\n",
    "    xcorr = Wc.dot(Wi.dot(T.nnet.relu(Wh3.dot(T.nnet.relu(Wh2.dot(x.T)))))).T\n",
    "\n",
    "# LOSS FUNCTION\n",
    "# Because p and n are {-1,0,1}, these two are the same\n",
    "# loss = -(T.log(T.nnet.sigmoid(p*xcorr)) + T.log(T.nnet.sigmoid(-n*xcorr))).mean()\n",
    "# loss = -T.log(T.nnet.sigmoid( (p-n).dot(xcorr)  )).mean()\n",
    "# loss = (-p * T.log(T.nnet.sigmoid(xcorr)) + n * T.log(T.nnet.sigmoid(xcorr))).mean()\n",
    "loss = -(p*T.log(T.nnet.sigmoid(xcorr)) + n*T.log(T.nnet.sigmoid(-xcorr))).mean()\n",
    "# \n",
    "# Cross-entropy\n",
    "# loss = (n-p)*( T.log( T.nnet.sigmoid(xcorr) ) ).mean()\n",
    "#\n",
    "# Binary cross-entropy\n",
    "# loss = -(p*(T.log( T.nnet.sigmoid(xcorr))) + (1-p)*(T.log( 1-T.nnet.sigmoid(xcorr) ))).mean()\n",
    "\n",
    "# Define the gradient updates. Use positive for maximization\n",
    "if numlayers==1:\n",
    "    params = [Wi, Wc]\n",
    "    gWi, gWc = T.grad(loss, params)\n",
    "    sgd = OrderedDict( { Wi: Wi - lr*gWi, Wc: Wc - lr*gWc } )\n",
    "elif numlayers==2:\n",
    "    params = [Wi, Wc, Wh2]\n",
    "    gWi, gWc, gWh2 = T.grad(loss, params)\n",
    "    sgd = OrderedDict( { Wi: Wi - lr*gWi, Wc: Wc - lr*gWc, Wh2: Wh2 - lr*gWh2 } )\n",
    "elif numlayers==3:\n",
    "    params = [Wi, Wc, Wh2, Wh3]\n",
    "    gWi, gWc, gWh2, gWh3 = T.grad(loss, params)\n",
    "    sgd = OrderedDict( { Wi: Wi - lr*gWi, Wc: Wc - lr*gWc, Wh2: Wh2 - lr*gWh2, Wh3: Wh3 - lr*gWh3 } )\n",
    "\n",
    "# Compile to theano functionality\n",
    "train = theano.function( [x,p,n], outputs=loss, updates=sgd, allow_input_downcast=True )\n",
    "predict= theano.function( [x], outputs=xcorr, allow_input_downcast=True )"
   ]
  },
  {
   "cell_type": "markdown",
   "metadata": {},
   "source": [
    "## Do SGD on the cost function above"
   ]
  },
  {
   "cell_type": "code",
   "execution_count": null,
   "metadata": {
    "collapsed": false,
    "scrolled": false
   },
   "outputs": [
    {
     "name": "stdout",
     "output_type": "stream",
     "text": [
      "[*****************93%***************   ]  16385 of 17665 complete \n",
      "losses (inst, bat, tot)=(0.0962084118206,1.54684331141,1.54684331141)\n"
     ]
    }
   ],
   "source": [
    "progbar = progressbar(len(yTr))\n",
    "\n",
    "# Iterate through the data size\n",
    "for j in xrange(epochs):\n",
    "    print \"Epoch \"+str(j)\n",
    "    k=0\n",
    "    totloss = 0.0\n",
    "    batloss = 0.0\n",
    "    randorder = np.random.permutation(len(yTr))\n",
    "    for i in range(0,len(randorder),batchsize):\n",
    "        \n",
    "        indata = xTr[i:i+batchsize]\n",
    "        outdata= yTr[i:i+batchsize]\n",
    "\n",
    "        nsv = ns.negsampv(outdata, m)\n",
    "        lossval = train( indata, outdata, nsv )\n",
    "        totloss += lossval\n",
    "        batloss += lossval\n",
    "\n",
    "        k+=1\n",
    "        if k % 16 == 0:\n",
    "            # Progress and loss\n",
    "            progbar.animate(k*batchsize)\n",
    "            print('\\nlosses (inst, bat, tot)=({},{},{})'.format(lossval, batloss, totloss))\n",
    "            \n",
    "    print \"\"\n",
    "    print \"Total loss on epoch \"+str(j)+\" = \"+str(totloss)+\"\\n\"\n",
    "    progloss = np.append(progloss, totloss)\n",
    "    print \"Progress: {}\".format( progloss )\n",
    "    plt.plot(progloss)\n",
    "\n",
    "    \n",
    "    if numlayers==1:\n",
    "        np.savez(saveparams, Wi=Wi.get_value(), Wc=Wc.get_value(), Epoch=j, Losses=progloss)      \n",
    "    elif numlayers==2:\n",
    "        np.savez(saveparams, Wi=Wi.get_value(), Wh2=Wh2.get_value(), Wc=Wc.get_value(), Epoch=j, Losses=progloss)      \n",
    "    elif numlayers==3:\n",
    "        np.savez(saveparams, Wi=Wi.get_value(), Wh2=Wh2.get_value(), Wh3=Wh3.get_value(), Wc=Wc.get_value(), Epoch=j, Losses=progloss)      \n"
   ]
  },
  {
   "cell_type": "markdown",
   "metadata": {},
   "source": [
    "### Save the arrays to parameter files"
   ]
  },
  {
   "cell_type": "code",
   "execution_count": null,
   "metadata": {
    "collapsed": true
   },
   "outputs": [],
   "source": [
    "if numlayers==1:\n",
    "    np.savez(saveparams, Wi=Wi.get_value(), Wc=Wc.get_value(), Epoch=j)      \n",
    "elif numlayers==2:\n",
    "    np.savez(saveparams, Wi=Wi.get_value(), Wh2=Wh2.get_value(), Wc=Wc.get_value(), Epoch=j, Losses=progloss)      \n",
    "elif numlayers==3:\n",
    "    np.savez(saveparams, Wi=Wi.get_value(), Wh2=Wh2.get_value(), Wh3=Wh3.get_value(), Wc=Wc.get_value(), Epoch=j, Losses=progloss)      "
   ]
  },
  {
   "cell_type": "markdown",
   "metadata": {},
   "source": [
    "# Numpy verification and debugging"
   ]
  },
  {
   "cell_type": "markdown",
   "metadata": {},
   "source": [
    "### Get arrays from GPU, and make sample inputs"
   ]
  },
  {
   "cell_type": "code",
   "execution_count": 32,
   "metadata": {
    "collapsed": false
   },
   "outputs": [
    {
     "name": "stdout",
     "output_type": "stream",
     "text": [
      "[ 140.92060172    7.62086023    6.96315359 ...,    6.95386771    6.96357229\n",
      "    6.95951553]\n"
     ]
    },
    {
     "data": {
      "image/png": "[encoded data removed]",
      "text/plain": [
       "<matplotlib.figure.Figure at 0x7f2bf33599d0>"
      ]
     },
     "metadata": {},
     "output_type": "display_data"
    }
   ],
   "source": [
    "# Get parameters from the GPU arrays\n",
    "Ws = []\n",
    "if numlayers >= 3:\n",
    "    Ws.append( Wh3.get_value() )\n",
    "if numlayers >= 2:\n",
    "    Ws.append( Wh2.get_value() )\n",
    "Win  = Wi.get_value()\n",
    "Wout = Wc.get_value()\n",
    "# plt.stem(W0.dot(xTe[40]))\n",
    "\n",
    "xD = xTe[:256]\n",
    "yD = yTe[:256]\n",
    "npp = yD\n",
    "npn = ns.negsampv(yD, m)\n",
    "\n",
    "plt.plot(progloss)\n",
    "print progloss\n"
   ]
  },
  {
   "cell_type": "code",
   "execution_count": null,
   "metadata": {
    "collapsed": true
   },
   "outputs": [],
   "source": []
  }
 ],
 "metadata": {
  "kernelspec": {
   "display_name": "Python 2",
   "language": "python",
   "name": "python2"
  },
  "language_info": {
   "codemirror_mode": {
    "name": "ipython",
    "version": 2
   },
   "file_extension": ".py",
   "mimetype": "text/x-python",
   "name": "python",
   "nbconvert_exporter": "python",
   "pygments_lexer": "ipython2",
   "version": "2.7.11"
  }
 },
 "nbformat": 4,
 "nbformat_minor": 0
}
