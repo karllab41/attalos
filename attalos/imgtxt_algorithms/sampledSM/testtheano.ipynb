{
 "cells": [
  {
   "cell_type": "code",
   "execution_count": null,
   "metadata": {
    "collapsed": false
   },
   "outputs": [],
   "source": [
    "import theano.tensor as T\n",
    "import theano\n",
    "import numpy as np\n",
    "from collections import OrderedDict\n",
    "import attalos.imgtxt_algorithms.util.negsamp as negsamp\n",
    "import sys\n",
    "import matplotlib.pylab as plt"
   ]
  },
  {
   "cell_type": "code",
   "execution_count": null,
   "metadata": {
    "collapsed": false
   },
   "outputs": [],
   "source": [
    "# %matplotlib notebook\n",
    "%matplotlib inline"
   ]
  },
  {
   "cell_type": "code",
   "execution_count": null,
   "metadata": {
    "collapsed": true
   },
   "outputs": [],
   "source": [
    "# Params\n",
    "d = 100\n",
    "m = 10\n",
    "lr = 0.001\n",
    "layers = 1\n",
    "epochs = 100\n",
    "weightfile = 'params-ix.npz'"
   ]
  },
  {
   "cell_type": "markdown",
   "metadata": {},
   "source": [
    "### Load AlexNet Features (fc7) for all of IAPR-TC12"
   ]
  },
  {
   "cell_type": "code",
   "execution_count": null,
   "metadata": {
    "collapsed": false
   },
   "outputs": [],
   "source": [
    "data = np.load('data/iaprtc_alexfc7.npz')\n",
    "D = open('data/iaprtc_dictionary.txt').read().splitlines()\n",
    "train_ims = [ im.split('/')[-1] for im in open('data/iaprtc_trainlist.txt').read().splitlines() ]\n",
    "test_ims = [ im.split('/')[-1] for im in open('data/iaprtc_testlist.txt').read().splitlines() ]\n",
    "xTr = data['xTr'].T\n",
    "yTr = data['yTr'].T\n",
    "xTe = data['xTe'].T\n",
    "yTe = data['yTe'].T\n",
    "wc = yTr.sum(axis=0)+0.01-0.01\n",
    "d = 100\n",
    "hidden=4096\n",
    "f = 4096\n",
    "V = 291\n",
    "test_ims_full = [ im for im in open('data/iaprtc_testlist.txt').read().splitlines() ]"
   ]
  },
  {
   "cell_type": "markdown",
   "metadata": {},
   "source": [
    "### Load Weight Files"
   ]
  },
  {
   "cell_type": "code",
   "execution_count": null,
   "metadata": {
    "collapsed": false
   },
   "outputs": [],
   "source": [
    "Wi = theano.shared(np.load(weightfile)['Wi'])\n",
    "Wc = theano.shared(np.load(weightfile)['Wc'])\n",
    "if 'Wh' in np.load(weightfile).keys():\n",
    "    layers=2\n",
    "    Wh = theano.shared(np.load(weightfile)['Wh'])"
   ]
  },
  {
   "cell_type": "markdown",
   "metadata": {},
   "source": [
    "### Define neural network function"
   ]
  },
  {
   "cell_type": "code",
   "execution_count": null,
   "metadata": {
    "collapsed": false
   },
   "outputs": [],
   "source": [
    "ns = negsamp.NegativeSampler(wc / wc.sum())\n",
    "\n",
    "# Define functionality\n",
    "x = T.vector()\n",
    "if layers == 1:\n",
    "    print \"Number of layers = 1\"\n",
    "    yh = T.nnet.sigmoid( Wc.dot(Wi.dot(x)) )\n",
    "else:\n",
    "    print \"Number of layers = 2\"\n",
    "    yh = T.nnet.sigmoid( Wc.dot(Wi.dot(T.nnet.relu(Wh.dot(x)))) )\n",
    "predictor = theano.function( inputs =[x], outputs = yh, allow_input_downcast=True )"
   ]
  },
  {
   "cell_type": "markdown",
   "metadata": {},
   "source": [
    "### Randomly select an image and display its results"
   ]
  },
  {
   "cell_type": "code",
   "execution_count": null,
   "metadata": {
    "collapsed": false,
    "scrolled": true
   },
   "outputs": [],
   "source": [
    "# Randomly select an image\n",
    "i=np.random.randint(0, yTe.shape[1])\n",
    "\n",
    "# Run example\n",
    "input=xTr[i];output=yTr[i];\n",
    "imname='images/'+test_ims_full[i]+'.jpg';\n",
    "print \"Looking at the \"+str(i)+\"th image: \"+imname\n",
    "im=plt.imread(imname)\n",
    "\n",
    "# Prediction\n",
    "ypwords = [D[j] for j in predictor( input ).argsort()[::-1] [ 0:(predictor(input)>0.5).sum() ] ]\n",
    "# Truth\n",
    "ytwords = [D[j] for j in ns.posidx( output ) ]\n",
    "\n",
    "plt.imshow(im)\n",
    "print 'Predicted: '+ ', '.join(ypwords)\n",
    "print 'Truth:     '+ ', '.join(ytwords)\n",
    "\n",
    "plt.figure()\n",
    "plt.stem( predictor(input) )"
   ]
  },
  {
   "cell_type": "code",
   "execution_count": null,
   "metadata": {
    "collapsed": true
   },
   "outputs": [],
   "source": []
  }
 ],
 "metadata": {
  "kernelspec": {
   "display_name": "Python 2",
   "language": "python",
   "name": "python2"
  },
  "language_info": {
   "codemirror_mode": {
    "name": "ipython",
    "version": 2
   },
   "file_extension": ".py",
   "mimetype": "text/x-python",
   "name": "python",
   "nbconvert_exporter": "python",
   "pygments_lexer": "ipython2",
   "version": "2.7.6"
  }
 },
 "nbformat": 4,
 "nbformat_minor": 0
}
