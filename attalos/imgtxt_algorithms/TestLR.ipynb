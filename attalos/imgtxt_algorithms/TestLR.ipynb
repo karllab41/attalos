{
 "cells": [
  {
   "cell_type": "markdown",
   "metadata": {},
   "source": [
    "# Test Linear Regression\n",
    "\n",
    "This notebook is an example that will test the generalization capability of a regression to word vectors. There are three corpora involved.\n",
    "\n",
    "## Required Data\n",
    "\n",
    "1. The _word vector corpora_\n",
    "  * Examples: New York Times, Wikipedia Text8\n",
    "  * Data: Pretrained word vectors (word2vec, etc.)\n",
    "2. The _training corpora_\n",
    "  * Examples: IAPR-TC12, MSCOCO, Visual Genome\n",
    "  * Data:\n",
    "    - Training image features and text labels\n",
    "    - Testing image features and text labels <-- Used as validation data\n",
    "3. A _testing corpora_ with a different vocabulary\n",
    "  * Examples: MSCOCO, Visual Genome, etc.\n",
    "  * Data: Training and testing image features\n",
    "\n",
    "\n",
    "### Imports"
   ]
  },
  {
   "cell_type": "code",
   "execution_count": 1,
   "metadata": {
    "collapsed": false
   },
   "outputs": [],
   "source": [
    "import numpy as np\n",
    "import matplotlib.pylab as plt\n",
    "import sys\n",
    "\n",
    "## Should probably update to PYTHONPATH\n",
    "sys.path.append('/work/attalos/karllab41-attalos/')\n",
    "\n",
    "## Import word vector load in\n",
    "import attalos.imgtxt_algorithms.util.readw2v as rw2v\n",
    "\n",
    "## Import linear regression\n",
    "import attalos.imgtxt_algorithms.linearregression.LinearRegression as linreg\n",
    "\n",
    "## Import evaluation code (right now, using Octave soft evaluation)\n",
    "# from attalos.evaluation.evaluation import Eval\n",
    "from oct2py import octave\n",
    "octave.addpath('../evaluation/')\n",
    "\n",
    "reload(linreg)\n",
    "%matplotlib inline"
   ]
  },
  {
   "cell_type": "markdown",
   "metadata": {},
   "source": [
    "### Load the word vectors in"
   ]
  },
  {
   "cell_type": "code",
   "execution_count": 2,
   "metadata": {
    "collapsed": false
   },
   "outputs": [],
   "source": [
    "F = rw2v.ReadW2V('linearregression/wordvecs/text9Bvin.bin')\n",
    "vectors = F.readlines()"
   ]
  },
  {
   "cell_type": "markdown",
   "metadata": {},
   "source": [
    "### Load training corpora in"
   ]
  },
  {
   "cell_type": "code",
   "execution_count": 3,
   "metadata": {
    "collapsed": false
   },
   "outputs": [],
   "source": [
    "data = np.load('linearregression/data/iaprtc_alexfc7.npz')\n",
    "D = open('linearregression/data/iaprtc_dictionary.txt').read().splitlines()\n",
    "train_ims = [ im.split('/')[-1] for im in open('linearregression/data/iaprtc_trainlist.txt').read().splitlines() ]\n",
    "xTr = data['xTr'].T\n",
    "yTr = data['yTr'].T\n",
    "xTe = data['xTe'].T\n",
    "yTe = data['yTe'].T\n",
    "\n",
    "test_ims_full = [ im for im in open('linearregression/data/iaprtc_testlist.txt').read().splitlines() ]\n",
    "train_ims_full = [ im for im in open('linearregression/data/iaprtc_trainlist.txt').read().splitlines() ]"
   ]
  },
  {
   "cell_type": "markdown",
   "metadata": {},
   "source": [
    "### Load testing corpora in\n"
   ]
  },
  {
   "cell_type": "code",
   "execution_count": null,
   "metadata": {
    "collapsed": true
   },
   "outputs": [],
   "source": []
  },
  {
   "cell_type": "markdown",
   "metadata": {},
   "source": [
    "-------------------------------"
   ]
  },
  {
   "cell_type": "markdown",
   "metadata": {},
   "source": [
    "### Train and validate"
   ]
  },
  {
   "cell_type": "code",
   "execution_count": 4,
   "metadata": {
    "collapsed": false
   },
   "outputs": [
    {
     "name": "stdout",
     "output_type": "stream",
     "text": [
      "Building W matrix = Y \\ X = Y^T X (X X^T)^-1\n"
     ]
    }
   ],
   "source": [
    "mp_solution = linreg.LinearRegression(normX = True)\n",
    "mp_solution.train(xTr, yTr)\n",
    "yHat = mp_solution.predict(xTe)"
   ]
  },
  {
   "cell_type": "markdown",
   "metadata": {},
   "source": [
    "### Test"
   ]
  },
  {
   "cell_type": "code",
   "execution_count": null,
   "metadata": {
    "collapsed": true
   },
   "outputs": [],
   "source": []
  },
  {
   "cell_type": "markdown",
   "metadata": {},
   "source": [
    "### Evaluate the regression"
   ]
  },
  {
   "cell_type": "code",
   "execution_count": 5,
   "metadata": {
    "collapsed": false
   },
   "outputs": [
    {
     "name": "stdout",
     "output_type": "stream",
     "text": [
      "0.390792064489\n",
      "0.213105627141\n",
      "0.275808267324\n"
     ]
    }
   ],
   "source": [
    "[precision, recall, f1score] = octave.evaluate(yTe.T, yHat.T, 5)\n",
    "print precision\n",
    "print recall\n",
    "print f1score"
   ]
  },
  {
   "cell_type": "markdown",
   "metadata": {},
   "source": [
    "### Visualize"
   ]
  },
  {
   "cell_type": "code",
   "execution_count": null,
   "metadata": {
    "collapsed": false
   },
   "outputs": [],
   "source": [
    "# Randomly select an image\n",
    "i=np.random.randint(0, yTe.shape[1])\n",
    "\n",
    "# Run example\n",
    "imname='linearregression/images/'+test_ims_full[i]+'.jpg';\n",
    "print \"Looking at the \"+str(i)+\"th image: \"+imname\n",
    "im=plt.imread(imname)\n",
    "\n",
    "# Prediction\n",
    "ypwords = [D[j] for j in yHat[i].argsort()[::-1] [ 0:(yHat[i]>0.2).sum() ] ]\n",
    "# Truth\n",
    "ytwords = [D[j] for j in np.where(yTe[i] > 0.5)[0] ]\n",
    "\n",
    "plt.imshow(im)\n",
    "print 'Predicted: '+ ', '.join(ypwords)\n",
    "print 'Truth:     '+ ', '.join(ytwords)\n",
    "\n",
    "plt.figure()\n",
    "plt.stem( yHat[i] )"
   ]
  },
  {
   "cell_type": "code",
   "execution_count": null,
   "metadata": {
    "collapsed": true
   },
   "outputs": [],
   "source": []
  }
 ],
 "metadata": {
  "kernelspec": {
   "display_name": "Python 2",
   "language": "python",
   "name": "python2"
  },
  "language_info": {
   "codemirror_mode": {
    "name": "ipython",
    "version": 2
   },
   "file_extension": ".py",
   "mimetype": "text/x-python",
   "name": "python",
   "nbconvert_exporter": "python",
   "pygments_lexer": "ipython2",
   "version": "2.7.11"
  }
 },
 "nbformat": 4,
 "nbformat_minor": 0
}
