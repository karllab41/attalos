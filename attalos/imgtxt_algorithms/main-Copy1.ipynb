{
 "cells": [
  {
   "cell_type": "code",
   "execution_count": 1,
   "metadata": {
    "collapsed": false
   },
   "outputs": [],
   "source": [
    "import sys\n",
    "sys.path.append('/local_data/kni/_branch_examine/verify_optim/verify_refactor/')\n",
    "from attalos.imgtxt_algorithms.main import *"
   ]
  },
  {
   "cell_type": "code",
   "execution_count": 2,
   "metadata": {
    "collapsed": true
   },
   "outputs": [],
   "source": [
    "# # Temp object using duck typing to replace command line arguments\n",
    "args = lambda: None\n",
    "\n",
    "# args.image_feature_file_train = \"\"\n",
    "# args.text_feature_file_train = \"\"\n",
    "# args.image_feature_file_test = \"\"\n",
    "# args.text_feature_file_test = \"\"\n",
    "\n",
    "args.image_feature_file_train = \"/local_data/teams/attalos/features/image/iaprtc_train_20160816_inception.hdf5\"\n",
    "args.text_feature_file_train = \"/local_data/teams/attalos/features/text/iaprtc_train_20160816_text.json.gz\"\n",
    "args.image_feature_file_test = \"/local_data/teams/attalos/features/image/iaprtc_test_20160816_inception.hdf5\"\n",
    "args.text_feature_file_test = \"/local_data/teams/attalos/features/text/iaprtc_test_20160816_text.json.gz\"\n",
    "# args.image_feature_file_test = \"/local_data/teams/attalos/features/image/espgame_test_20160823_inception.hdf5\"\n",
    "# args.text_feature_file_test = \"/local_data/teams/attalos/features/text/espgame_test_20160823_text.json.gz\"\n",
    "\n",
    "\n",
    "# args.word_vector_file = \"\"\n",
    "# args.word_vector_type = \"glove\" # \"w2v\"\n",
    "args.word_vector_file = \"/local_data/kni/data/vectors-phrase.bin\"\n",
    "args.word_vector_type = \"w2v\"\n",
    "\n",
    "args.model_type = 'negsampling' # \"yfccjoint\" #negsamp\" #\"wdv\" #\"naivesum\" #\"multihot\"\n",
    "args.cross_eval = False\n",
    "args.in_memory = True\n",
    "args.model_input_path = None\n",
    "args.model_output_path = None\n",
    "args.num_epochs = 500\n",
    "args.batch_size = 256\n",
    "args.learning_rate = 0.00005\n",
    "args.verbose_eval = True\n",
    "args.epoch_verbosity = 1\n",
    "args.optim_words = True\n",
    "args.hidden_units='2048,1024'"
   ]
  },
  {
   "cell_type": "code",
   "execution_count": 3,
   "metadata": {
    "collapsed": false
   },
   "outputs": [
    {
     "name": "stderr",
     "output_type": "stream",
     "text": [
      "[2016-09-27 19:43:53,629] [INFO] Parsing train and test datasets.\n"
     ]
    }
   ],
   "source": [
    "logger.info(\"Parsing train and test datasets.\")\n",
    "train_dataset = Dataset(args.image_feature_file_train, args.text_feature_file_train, load_image_feats_in_mem=args.in_memory)\n",
    "test_dataset = Dataset(args.image_feature_file_test, args.text_feature_file_test)"
   ]
  },
  {
   "cell_type": "code",
   "execution_count": 4,
   "metadata": {
    "collapsed": false
   },
   "outputs": [
    {
     "name": "stderr",
     "output_type": "stream",
     "text": [
      "[2016-09-27 19:43:53,903] [INFO] Reading word vectors from file.\n"
     ]
    }
   ],
   "source": [
    "logger.info(\"Reading word vectors from file.\")\n",
    "wv_model = load_wv_model(args.word_vector_file, args.word_vector_type)"
   ]
  },
  {
   "cell_type": "code",
   "execution_count": 5,
   "metadata": {
    "collapsed": true
   },
   "outputs": [],
   "source": [
    "#sess.close()"
   ]
  },
  {
   "cell_type": "code",
   "execution_count": 6,
   "metadata": {
    "collapsed": true
   },
   "outputs": [],
   "source": [
    "config = tf.ConfigProto()\n",
    "config.gpu_options.allow_growth = True\n",
    "sess = tf.InteractiveSession(config=config)"
   ]
  },
  {
   "cell_type": "code",
   "execution_count": 7,
   "metadata": {
    "collapsed": false
   },
   "outputs": [
    {
     "name": "stderr",
     "output_type": "stream",
     "text": [
      "[2016-09-27 19:44:07,365] [INFO] Selecting model class: NegSamplingModel\n",
      "[2016-09-27 19:44:08,537] [INFO] Optimization on GPU, word vectors are stored separately.\n",
      "[2016-09-27 19:44:08,579] [INFO] Optimization uses Adam\n"
     ]
    }
   ],
   "source": [
    "model_cls = ModelTypes[args.model_type].value\n",
    "logger.info(\"Selecting model class: %s\" % model_cls.__name__)\n",
    "datasets = [train_dataset] if args.cross_eval else [train_dataset, test_dataset]\n",
    "model = model_cls(wv_model, datasets, **vars(args))\n",
    "model.initialize_model(sess)"
   ]
  },
  {
   "cell_type": "code",
   "execution_count": 8,
   "metadata": {
    "collapsed": false
   },
   "outputs": [
    {
     "data": {
      "text/plain": [
       "(288, 168)"
      ]
     },
     "execution_count": 8,
     "metadata": {},
     "output_type": "execute_result"
    }
   ],
   "source": [
    "model.Cwd.shape"
   ]
  },
  {
   "cell_type": "code",
   "execution_count": null,
   "metadata": {
    "collapsed": false
   },
   "outputs": [
    {
     "name": "stderr",
     "output_type": "stream",
     "text": [
      "[2016-09-27 19:44:10,321] [INFO] Preparing test_dataset.\n"
     ]
    }
   ],
   "source": [
    "logger.info(\"Preparing test_dataset.\")\n",
    "fetches, feed_dict, truth = model.prep_predict(test_dataset)"
   ]
  },
  {
   "cell_type": "code",
   "execution_count": null,
   "metadata": {
    "collapsed": false
   },
   "outputs": [
    {
     "name": "stderr",
     "output_type": "stream",
     "text": [
      "[2016-09-27 19:44:10,712] [INFO] Starting training phase.\n",
      "[2016-09-27 19:44:15,173] [DEBUG] Finished epoch 0. (Avg. training loss: 1.20308633645)\n",
      "/opt/conda/envs/python2/lib/python2.7/site-packages/sklearn/metrics/classification.py:1074: UndefinedMetricWarning: Precision is ill-defined and being set to 0.0 in labels with no predicted samples.\n",
      "  'precision', 'predicted', average, warn_for)\n",
      "/opt/conda/envs/python2/lib/python2.7/site-packages/sklearn/metrics/classification.py:1076: UndefinedMetricWarning: Recall is ill-defined and being set to 0.0 in labels with no true samples.\n",
      "  'recall', 'true', average, warn_for)\n",
      "/opt/conda/envs/python2/lib/python2.7/site-packages/sklearn/metrics/classification.py:1074: UndefinedMetricWarning: F-score is ill-defined and being set to 0.0 in labels with no predicted samples.\n",
      "  'precision', 'predicted', average, warn_for)\n",
      "/opt/conda/envs/python2/lib/python2.7/site-packages/sklearn/metrics/classification.py:1076: UndefinedMetricWarning: F-score is ill-defined and being set to 0.0 in labels with no true samples.\n",
      "  'recall', 'true', average, warn_for)\n",
      "[2016-09-27 19:44:15,329] [DEBUG] Evaluation (precision, recall, f1): [0.076005407855416818, 0.034653239567243067, 0.031579515996613905]\n",
      "[2016-09-27 19:44:19,524] [DEBUG] Finished epoch 1. (Avg. training loss: 1.02393013671)\n",
      "[2016-09-27 19:44:19,671] [DEBUG] Evaluation (precision, recall, f1): [0.085134614657058655, 0.046673347597002555, 0.038534000869409044]\n",
      "[2016-09-27 19:44:23,777] [DEBUG] Finished epoch 2. (Avg. training loss: 0.974240880082)\n",
      "[2016-09-27 19:44:23,919] [DEBUG] Evaluation (precision, recall, f1): [0.088184818846133467, 0.042762058443866623, 0.038930165332130687]\n",
      "[2016-09-27 19:44:28,046] [DEBUG] Finished epoch 3. (Avg. training loss: 0.950266795746)\n",
      "[2016-09-27 19:44:28,179] [DEBUG] Evaluation (precision, recall, f1): [0.086990342807164681, 0.040339735997823069, 0.037315565215463878]\n",
      "[2016-09-27 19:44:32,289] [DEBUG] Finished epoch 4. (Avg. training loss: 0.938078604747)\n",
      "[2016-09-27 19:44:32,429] [DEBUG] Evaluation (precision, recall, f1): [0.094554483689831798, 0.049601920277179933, 0.043208446638564574]\n",
      "[2016-09-27 19:44:36,539] [DEBUG] Finished epoch 5. (Avg. training loss: 0.926149937554)\n",
      "[2016-09-27 19:44:36,675] [DEBUG] Evaluation (precision, recall, f1): [0.084980555795725041, 0.043284795585985497, 0.037961782639969063]\n",
      "[2016-09-27 19:44:40,767] [DEBUG] Finished epoch 6. (Avg. training loss: 0.917629108049)\n",
      "[2016-09-27 19:44:40,900] [DEBUG] Evaluation (precision, recall, f1): [0.093289625315825075, 0.044708668984627158, 0.041243445417496659]\n",
      "[2016-09-27 19:44:44,943] [DEBUG] Finished epoch 7. (Avg. training loss: 0.905582088491)\n",
      "[2016-09-27 19:44:45,123] [DEBUG] Evaluation (precision, recall, f1): [0.10006932783392559, 0.045186030551191525, 0.039459004437320623]\n",
      "[2016-09-27 19:44:49,190] [DEBUG] Finished epoch 8. (Avg. training loss: 0.903537402982)\n",
      "[2016-09-27 19:44:49,383] [DEBUG] Evaluation (precision, recall, f1): [0.087013415268535454, 0.049697944928176106, 0.03971119481845567]\n",
      "[2016-09-27 19:44:53,458] [DEBUG] Finished epoch 9. (Avg. training loss: 0.902531912361)\n",
      "[2016-09-27 19:44:53,588] [DEBUG] Evaluation (precision, recall, f1): [0.092744561006753753, 0.04678937247323145, 0.038697209449734635]\n",
      "[2016-09-27 19:44:57,671] [DEBUG] Finished epoch 10. (Avg. training loss: 0.890082226283)\n",
      "[2016-09-27 19:44:57,805] [DEBUG] Evaluation (precision, recall, f1): [0.099059219295848086, 0.050364943629398952, 0.038442595230036986]\n",
      "[2016-09-27 19:45:01,897] [DEBUG] Finished epoch 11. (Avg. training loss: 0.8962945463)\n",
      "[2016-09-27 19:45:02,031] [DEBUG] Evaluation (precision, recall, f1): [0.090787196553289221, 0.049909510024930208, 0.04073179506764954]\n",
      "[2016-09-27 19:45:06,092] [DEBUG] Finished epoch 12. (Avg. training loss: 0.885538303334)\n",
      "[2016-09-27 19:45:06,225] [DEBUG] Evaluation (precision, recall, f1): [0.094792533020013794, 0.048212510419149354, 0.039952061112355608]\n",
      "[2016-09-27 19:45:10,299] [DEBUG] Finished epoch 13. (Avg. training loss: 0.883413761422)\n",
      "[2016-09-27 19:45:10,434] [DEBUG] Evaluation (precision, recall, f1): [0.093842519953540815, 0.049421291934388045, 0.041333162421729783]\n",
      "[2016-09-27 19:45:14,528] [DEBUG] Finished epoch 14. (Avg. training loss: 0.882723697718)\n",
      "[2016-09-27 19:45:14,672] [DEBUG] Evaluation (precision, recall, f1): [0.10954855136173587, 0.047536778802660336, 0.04016182076443385]\n",
      "[2016-09-27 19:45:18,756] [DEBUG] Finished epoch 15. (Avg. training loss: 0.876672839773)\n",
      "[2016-09-27 19:45:18,888] [DEBUG] Evaluation (precision, recall, f1): [0.10478226822797006, 0.050366430829817038, 0.043955777430547731]\n",
      "[2016-09-27 19:45:22,851] [DEBUG] Finished epoch 16. (Avg. training loss: 0.872933161431)\n",
      "[2016-09-27 19:45:23,032] [DEBUG] Evaluation (precision, recall, f1): [0.095157454405429026, 0.049367079485901057, 0.040252868992340471]\n",
      "[2016-09-27 19:45:27,157] [DEBUG] Finished epoch 17. (Avg. training loss: 0.872328302998)\n",
      "[2016-09-27 19:45:27,290] [DEBUG] Evaluation (precision, recall, f1): [0.10880693131147018, 0.054710677163107943, 0.048697939729028]\n",
      "[2016-09-27 19:45:31,310] [DEBUG] Finished epoch 18. (Avg. training loss: 0.873655794323)\n",
      "[2016-09-27 19:45:31,440] [DEBUG] Evaluation (precision, recall, f1): [0.099711583707847967, 0.049578974028064965, 0.040693985995941144]\n",
      "[2016-09-27 19:45:35,541] [DEBUG] Finished epoch 19. (Avg. training loss: 0.874072467071)\n",
      "[2016-09-27 19:45:35,718] [DEBUG] Evaluation (precision, recall, f1): [0.10993660937406616, 0.055748306776191484, 0.043428647522463025]\n",
      "[2016-09-27 19:45:39,784] [DEBUG] Finished epoch 20. (Avg. training loss: 0.863890800787)\n",
      "[2016-09-27 19:45:39,938] [DEBUG] Evaluation (precision, recall, f1): [0.10859017061526965, 0.05723416830500648, 0.047490678666050813]\n",
      "[2016-09-27 19:45:44,040] [DEBUG] Finished epoch 21. (Avg. training loss: 0.871252972147)\n",
      "[2016-09-27 19:45:44,207] [DEBUG] Evaluation (precision, recall, f1): [0.10887577085557447, 0.054647494148524531, 0.046444967551756325]\n",
      "[2016-09-27 19:45:48,305] [DEBUG] Finished epoch 22. (Avg. training loss: 0.871396983015)\n",
      "[2016-09-27 19:45:48,484] [DEBUG] Evaluation (precision, recall, f1): [0.11727403870739919, 0.056332618814859375, 0.046951951084302265]\n",
      "[2016-09-27 19:45:52,587] [DEBUG] Finished epoch 23. (Avg. training loss: 0.8683942876)\n",
      "[2016-09-27 19:45:52,714] [DEBUG] Evaluation (precision, recall, f1): [0.11349738272374427, 0.057133346742276298, 0.049460605046339555]\n",
      "[2016-09-27 19:45:56,806] [DEBUG] Finished epoch 24. (Avg. training loss: 0.867930839891)\n",
      "[2016-09-27 19:45:56,932] [DEBUG] Evaluation (precision, recall, f1): [0.11842432372215456, 0.053254010441326965, 0.044278168530003562]\n",
      "[2016-09-27 19:46:01,041] [DEBUG] Finished epoch 25. (Avg. training loss: 0.864978950093)\n",
      "[2016-09-27 19:46:01,167] [DEBUG] Evaluation (precision, recall, f1): [0.10878547507884158, 0.052811632672547265, 0.042048862617474841]\n",
      "[2016-09-27 19:46:05,233] [DEBUG] Finished epoch 26. (Avg. training loss: 0.870442412038)\n",
      "[2016-09-27 19:46:05,361] [DEBUG] Evaluation (precision, recall, f1): [0.11743915940591293, 0.061049053963804299, 0.052292061543332907]\n",
      "[2016-09-27 19:46:09,445] [DEBUG] Finished epoch 27. (Avg. training loss: 0.877301933973)\n",
      "[2016-09-27 19:46:09,570] [DEBUG] Evaluation (precision, recall, f1): [0.12634607499585038, 0.05247798631891986, 0.045504611388499788]\n",
      "[2016-09-27 19:46:13,623] [DEBUG] Finished epoch 28. (Avg. training loss: 0.863367770029)\n",
      "[2016-09-27 19:46:13,753] [DEBUG] Evaluation (precision, recall, f1): [0.11588754090784274, 0.051664026315640488, 0.046318286363918812]\n",
      "[2016-09-27 19:46:17,820] [DEBUG] Finished epoch 29. (Avg. training loss: 0.86511386391)\n",
      "[2016-09-27 19:46:17,999] [DEBUG] Evaluation (precision, recall, f1): [0.11635560904075964, 0.055787768930403631, 0.049151546697549953]\n",
      "[2016-09-27 19:46:22,140] [DEBUG] Finished epoch 30. (Avg. training loss: 0.865689998952)\n",
      "[2016-09-27 19:46:22,272] [DEBUG] Evaluation (precision, recall, f1): [0.12226672667170632, 0.056002306853681544, 0.053095062270553335]\n",
      "[2016-09-27 19:46:26,357] [DEBUG] Finished epoch 31. (Avg. training loss: 0.86312120289)\n",
      "[2016-09-27 19:46:26,483] [DEBUG] Evaluation (precision, recall, f1): [0.11233660516867615, 0.059562785655262754, 0.050632208166909179]\n",
      "[2016-09-27 19:46:30,511] [DEBUG] Finished epoch 32. (Avg. training loss: 0.862747144008)\n",
      "[2016-09-27 19:46:30,646] [DEBUG] Evaluation (precision, recall, f1): [0.11504506750932876, 0.062185370858441141, 0.054032264832375207]\n",
      "[2016-09-27 19:46:34,712] [DEBUG] Finished epoch 33. (Avg. training loss: 0.861516873042)\n",
      "[2016-09-27 19:46:34,842] [DEBUG] Evaluation (precision, recall, f1): [0.12152412270642346, 0.058731350647615539, 0.047336917180063769]\n",
      "[2016-09-27 19:46:38,907] [DEBUG] Finished epoch 34. (Avg. training loss: 0.860774887645)\n",
      "[2016-09-27 19:46:39,041] [DEBUG] Evaluation (precision, recall, f1): [0.10802621387550386, 0.06879073113154667, 0.055000521615860901]\n",
      "[2016-09-27 19:46:43,150] [DEBUG] Finished epoch 35. (Avg. training loss: 0.861071078674)\n",
      "[2016-09-27 19:46:43,275] [DEBUG] Evaluation (precision, recall, f1): [0.10972608887851526, 0.067818158848269638, 0.05884202582992358]\n",
      "[2016-09-27 19:46:47,382] [DEBUG] Finished epoch 36. (Avg. training loss: 0.854090889295)\n",
      "[2016-09-27 19:46:47,511] [DEBUG] Evaluation (precision, recall, f1): [0.11806210286269879, 0.062884027804301704, 0.053011029332621445]\n",
      "[2016-09-27 19:46:51,612] [DEBUG] Finished epoch 37. (Avg. training loss: 0.85874662883)\n",
      "[2016-09-27 19:46:51,745] [DEBUG] Evaluation (precision, recall, f1): [0.11490333007921283, 0.061626837821206468, 0.053417659914480678]\n",
      "[2016-09-27 19:46:55,893] [DEBUG] Finished epoch 38. (Avg. training loss: 0.857485186363)\n",
      "[2016-09-27 19:46:56,023] [DEBUG] Evaluation (precision, recall, f1): [0.12681288124381482, 0.065559060770092187, 0.060642140723901471]\n",
      "[2016-09-27 19:47:00,099] [DEBUG] Finished epoch 39. (Avg. training loss: 0.867223237736)\n",
      "[2016-09-27 19:47:00,224] [DEBUG] Evaluation (precision, recall, f1): [0.11042163362281264, 0.057904914203697734, 0.047659282023229346]\n",
      "[2016-09-27 19:47:04,306] [DEBUG] Finished epoch 40. (Avg. training loss: 0.860966109711)\n",
      "[2016-09-27 19:47:04,454] [DEBUG] Evaluation (precision, recall, f1): [0.12859154946317869, 0.064195194861393315, 0.056515718380722321]\n",
      "[2016-09-27 19:47:08,554] [DEBUG] Finished epoch 41. (Avg. training loss: 0.860508423785)\n",
      "[2016-09-27 19:47:08,736] [DEBUG] Evaluation (precision, recall, f1): [0.11796138333317069, 0.06103044335608724, 0.052200216003993841]\n",
      "[2016-09-27 19:47:12,760] [DEBUG] Finished epoch 42. (Avg. training loss: 0.861015606618)\n",
      "[2016-09-27 19:47:12,941] [DEBUG] Evaluation (precision, recall, f1): [0.12654868827440505, 0.06203608518095844, 0.05382957183992057]\n",
      "[2016-09-27 19:47:17,020] [DEBUG] Finished epoch 43. (Avg. training loss: 0.854534848877)\n",
      "[2016-09-27 19:47:17,216] [DEBUG] Evaluation (precision, recall, f1): [0.12594784602452241, 0.059808460224831758, 0.056241319717058737]\n",
      "[2016-09-27 19:47:21,331] [DEBUG] Finished epoch 44. (Avg. training loss: 0.856340877388)\n",
      "[2016-09-27 19:47:21,464] [DEBUG] Evaluation (precision, recall, f1): [0.119516863012149, 0.06337759401613495, 0.052879765778407042]\n",
      "[2016-09-27 19:47:25,553] [DEBUG] Finished epoch 45. (Avg. training loss: 0.860130967437)\n",
      "[2016-09-27 19:47:25,691] [DEBUG] Evaluation (precision, recall, f1): [0.11375719800265977, 0.066427018785843492, 0.061018009892923081]\n",
      "[2016-09-27 19:47:29,773] [DEBUG] Finished epoch 46. (Avg. training loss: 0.857105322506)\n",
      "[2016-09-27 19:47:29,898] [DEBUG] Evaluation (precision, recall, f1): [0.11745142961237091, 0.067013701157958724, 0.059681762247736705]\n",
      "[2016-09-27 19:47:34,030] [DEBUG] Finished epoch 47. (Avg. training loss: 0.856411289478)\n",
      "[2016-09-27 19:47:34,207] [DEBUG] Evaluation (precision, recall, f1): [0.10508134176972124, 0.078632306659872461, 0.064603354319153761]\n",
      "[2016-09-27 19:47:38,315] [DEBUG] Finished epoch 48. (Avg. training loss: 0.844921355662)\n",
      "[2016-09-27 19:47:38,441] [DEBUG] Evaluation (precision, recall, f1): [0.11884503854035872, 0.068337355621533091, 0.063171016875743294]\n",
      "[2016-09-27 19:47:42,519] [DEBUG] Finished epoch 49. (Avg. training loss: 0.856341336948)\n",
      "[2016-09-27 19:47:42,645] [DEBUG] Evaluation (precision, recall, f1): [0.12778015851584035, 0.062216715149286728, 0.057501006301562754]\n"
     ]
    }
   ],
   "source": [
    "logger.info(\"Starting training phase.\")\n",
    "mid_eval = (fetches, feed_dict, truth) if args.verbose_eval else None\n",
    "train(sess, model, args.num_epochs, train_dataset, args.batch_size, args.epoch_verbosity, mid_eval=mid_eval) \n",
    "#, train_dataset, wv_model, test_dataset=test_dataset, epoch_verbosity_rate=100)"
   ]
  },
  {
   "cell_type": "code",
   "execution_count": null,
   "metadata": {
    "collapsed": false
   },
   "outputs": [],
   "source": [
    "# model.wv_model.vocab\n",
    "print len(model.test_one_hot.get_key_ordering())\n",
    "print len(model.one_hot.get_key_ordering())\n",
    "\n",
    "# model.one_hot.get_key_ordering().where( model.w )\n",
    "\n",
    "import numpy as np\n",
    "diffvecs = np.linalg.inv( model.w.T.dot(model.w) ).dot(model.w.T).dot(model.Cwd)\n"
   ]
  },
  {
   "cell_type": "code",
   "execution_count": null,
   "metadata": {
    "collapsed": false
   },
   "outputs": [],
   "source": [
    "logger.info(\"Starting evaluation phase.\")\n",
    "evaluate(sess, model, fetches, feed_dict, truth)"
   ]
  }
 ],
 "metadata": {
  "kernelspec": {
   "display_name": "Python 2",
   "language": "python",
   "name": "python2"
  },
  "language_info": {
   "codemirror_mode": {
    "name": "ipython",
    "version": 2
   },
   "file_extension": ".py",
   "mimetype": "text/x-python",
   "name": "python",
   "nbconvert_exporter": "python",
   "pygments_lexer": "ipython2",
   "version": "2.7.12"
  }
 },
 "nbformat": 4,
 "nbformat_minor": 0
}
