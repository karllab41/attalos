{
 "cells": [
  {
   "cell_type": "code",
   "execution_count": null,
   "metadata": {
    "collapsed": false
   },
   "outputs": [],
   "source": [
    "from attalos.imgtxt_algorithms.main import *"
   ]
  },
  {
   "cell_type": "code",
   "execution_count": null,
   "metadata": {
    "collapsed": true
   },
   "outputs": [],
   "source": [
    "# Temp object using duck typing to replace command line arguments\n",
    "args = lambda: None\n",
    "\n",
    "args.image_feature_file_train = \"\"\n",
    "args.text_feature_file_train = \"\"\n",
    "args.image_feature_file_test = \"\"\n",
    "args.text_feature_file_test = \"\"\n",
    "\n",
    "args.word_vector_file = \"\"\n",
    "args.word_vector_type = \"glove\" # \"w2v\"\n",
    "\n",
    "args.model_type = \"negsamp\" #\"wdv\" #\"naivesum\" #\"multihot\"\n",
    "args.cross_eval = False\n",
    "args.in_memory = True\n",
    "args.model_input_path = None\n",
    "args.model_output_path = None\n",
    "args.num_epochs = 500\n",
    "args.batch_size = 100\n",
    "args.learning_rate = 0.0001\n",
    "args.verbose_eval = True\n",
    "args.epoch_verbosity = 10"
   ]
  },
  {
   "cell_type": "code",
   "execution_count": null,
   "metadata": {
    "collapsed": false
   },
   "outputs": [],
   "source": [
    "logger.info(\"Parsing train and test datasets.\")\n",
    "train_dataset = Dataset(args.image_feature_file_train, args.text_feature_file_train, load_image_feats_in_mem=args.in_memory)\n",
    "test_dataset = Dataset(args.image_feature_file_test, args.text_feature_file_test)"
   ]
  },
  {
   "cell_type": "code",
   "execution_count": null,
   "metadata": {
    "collapsed": false
   },
   "outputs": [],
   "source": [
    "logger.info(\"Reading word vectors from file.\")\n",
    "wv_model = load_wv_model(args.word_vector_file, args.word_vector_type)"
   ]
  },
  {
   "cell_type": "code",
   "execution_count": null,
   "metadata": {
    "collapsed": true
   },
   "outputs": [],
   "source": [
    "#sess.close()"
   ]
  },
  {
   "cell_type": "code",
   "execution_count": null,
   "metadata": {
    "collapsed": true
   },
   "outputs": [],
   "source": [
    "config = tf.ConfigProto()\n",
    "config.gpu_options.allow_growth = True\n",
    "sess = tf.InteractiveSession(config=config)"
   ]
  },
  {
   "cell_type": "code",
   "execution_count": null,
   "metadata": {
    "collapsed": false
   },
   "outputs": [],
   "source": [
    "model_cls = ModelTypes[args.model_type].value\n",
    "logger.info(\"Selecting model class: %s\" % model_cls.__name__)\n",
    "datasets = [train_dataset] if args.cross_eval else [train_dataset, test_dataset]\n",
    "model = model_cls(wv_model, datasets, **vars(args))\n",
    "model.initialize_model(sess)"
   ]
  },
  {
   "cell_type": "code",
   "execution_count": null,
   "metadata": {
    "collapsed": false
   },
   "outputs": [],
   "source": [
    "logger.info(\"Preparing test_dataset.\")\n",
    "fetches, feed_dict, truth = model.prep_predict(test_dataset)"
   ]
  },
  {
   "cell_type": "code",
   "execution_count": null,
   "metadata": {
    "collapsed": false
   },
   "outputs": [],
   "source": [
    "logger.info(\"Starting training phase.\")\n",
    "mid_eval = (fetches, feed_dict, truth) if args.verbose_eval else None\n",
    "train(sess, model, args.num_epochs, train_dataset, args.batch_size, args.epoch_verbosity, mid_eval=mid_eval) #, train_dataset, wv_model, test_dataset=test_dataset, epoch_verbosity_rate=100)"
   ]
  },
  {
   "cell_type": "code",
   "execution_count": null,
   "metadata": {
    "collapsed": false
   },
   "outputs": [],
   "source": [
    "logger.info(\"Starting evaluation phase.\")\n",
    "evaluate(sess, model, fetches, feed_dict, truth)"
   ]
  }
 ],
 "metadata": {
  "kernelspec": {
   "display_name": "Python 2",
   "language": "python",
   "name": "python2"
  },
  "language_info": {
   "codemirror_mode": {
    "name": "ipython",
    "version": 2
   },
   "file_extension": ".py",
   "mimetype": "text/x-python",
   "name": "python",
   "nbconvert_exporter": "python",
   "pygments_lexer": "ipython2",
   "version": "2.7.12"
  }
 },
 "nbformat": 4,
 "nbformat_minor": 0
}
