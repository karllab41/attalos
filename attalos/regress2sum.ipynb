{
 "cells": [
  {
   "cell_type": "code",
   "execution_count": 1,
   "metadata": {
    "collapsed": true
   },
   "outputs": [],
   "source": [
    "import readw2v as rw2v\n",
    "import numpy as np\n",
    "import tensorflow as tf\n",
    "sess = tf.InteractiveSession()"
   ]
  },
  {
   "cell_type": "code",
   "execution_count": 2,
   "metadata": {
    "collapsed": true
   },
   "outputs": [],
   "source": [
    "F = rw2v.ReadW2V('wordvecs/text9Bvin.bin')\n",
    "vectors = F.readlines()"
   ]
  },
  {
   "cell_type": "markdown",
   "metadata": {},
   "source": [
    "### Variables"
   ]
  },
  {
   "cell_type": "code",
   "execution_count": 3,
   "metadata": {
    "collapsed": false
   },
   "outputs": [],
   "source": [
    "data = np.load('data/iaprtc_alexfc7.npz')\n",
    "D = open('data/iaprtc_dictionary.txt').read().splitlines()\n",
    "train_ims = [ im.split('/')[-1] for im in open('data/iaprtc_trainlist.txt').read().splitlines() ]\n",
    "test_ims = [ im.split('/')[-1] for im in open('data/iaprtc_testlist.txt').read().splitlines() ]\n",
    "xTr = data['xTr'].T\n",
    "yTr = data['yTr'].T\n",
    "xTe = data['xTe'].T\n",
    "yTe = data['yTe'].T\n",
    "wc = yTr.sum(axis=0)+0.00\n",
    "\n",
    "imfeatsize = xTr.shape[1]\n",
    "vocabsize = yTr.shape[1]\n",
    "wordvecsize = vectors['</s>'].shape[0]"
   ]
  },
  {
   "cell_type": "code",
   "execution_count": 11,
   "metadata": {
    "collapsed": true
   },
   "outputs": [],
   "source": [
    "BATCH_SIZE = 256\n",
    "HIDDEN_SIZE = 300\n",
    "RATE = 100.0"
   ]
  },
  {
   "cell_type": "markdown",
   "metadata": {
    "collapsed": false
   },
   "source": [
    "### If you wanted to collect them into a matrix similar to IAPR-TC12, then this would be how you would do it.\n",
    "\n",
    "matval = np.array(vectors.values())\n",
    "words = vectors.keys()"
   ]
  },
  {
   "cell_type": "code",
   "execution_count": 5,
   "metadata": {
    "collapsed": false
   },
   "outputs": [],
   "source": [
    "targetwords = [ D[i] for i in np.nonzero( yTr[np.random.randint(len(yTr))] )[0] ]\n",
    "targetvecs = np.array( [vectors[w] for w in targetwords ] )"
   ]
  },
  {
   "cell_type": "markdown",
   "metadata": {
    "collapsed": false
   },
   "source": [
    "### Things not in the Wikipedia right now:\n",
    "\n",
    "'tee-shirt'"
   ]
  },
  {
   "cell_type": "markdown",
   "metadata": {},
   "source": [
    "### For a single feature, get the related training vectors\n",
    "\n",
    "Usage:  (im, veclist) = get_training_vectors( index_number )\n",
    "\n",
    "### For multiple features (in the list of indices), for each image feature, sum the training vectors"
   ]
  },
  {
   "cell_type": "code",
   "execution_count": 6,
   "metadata": {
    "collapsed": false
   },
   "outputs": [],
   "source": [
    "# Given an index into the corpus, get the corresponding image feature and all word vectors from it\n",
    "def get_training_vectors(index):\n",
    "    yTrList = []\n",
    "    for i in np.nonzero( yTr[index] )[0]:\n",
    "        yTrList.append( vectors[ D[i] ] )\n",
    "    return (xTr[index], np.array(yTrList))\n",
    "\n",
    "def get_training_batch(indices):\n",
    "    \n",
    "    feats = np.zeros((len(indices),imfeatsize))\n",
    "    labels = np.zeros((len(indices),wordvecsize))\n",
    "    \n",
    "    for j, i in enumerate(indices):\n",
    "        feats[j], wordfeats = get_training_vectors(i)\n",
    "        labels[j] = wordfeats.sum(axis=0)\n",
    "    return (feats, labels)"
   ]
  },
  {
   "cell_type": "code",
   "execution_count": 7,
   "metadata": {
    "collapsed": false
   },
   "outputs": [
    {
     "name": "stdout",
     "output_type": "stream",
     "text": [
      "Image feature size = 4096\n",
      "Image vocabulary size = 291\n",
      "Looking to extend that to 218317\n",
      "Initializing tensorflow variables\n"
     ]
    }
   ],
   "source": [
    "print \"Image feature size = {}\".format( imfeatsize )\n",
    "print \"Image vocabulary size = {}\".format( vocabsize )\n",
    "print \"Looking to extend that to {}\".format( len(vectors) )\n",
    "\n",
    "print \"Initializing tensorflow variables\"\n",
    "# Tensorflow input output data\n",
    "X = tf.placeholder(tf.float32, shape=[None, imfeatsize], name='Input')\n",
    "Ytruth = tf.placeholder(tf.float32, shape=[None, wordvecsize], name='Truth')\n",
    "# positive_examples = tf.placeholder(tf.float32, shape=[BATCH_SIZE, HIDDEN_SIZE], name=\"Positive_Examples\")\n",
    "# negative_examples = tf.placeholder(tf.float32, shape=[BATCH_SIZE, HIDDEN_SIZE], name=\"Negative_Examples\")\n",
    "\n",
    "# Tensorflow variable weights\n",
    "W0 = tf.Variable(tf.random_normal([imfeatsize, HIDDEN_SIZE],stddev=1))\n",
    "W1 = tf.Variable(tf.random_normal([HIDDEN_SIZE, wordvecsize], stddev=1))"
   ]
  },
  {
   "cell_type": "code",
   "execution_count": 12,
   "metadata": {
    "collapsed": false
   },
   "outputs": [],
   "source": [
    "# Two layer perceptron\n",
    "def two_layer_perceptron(X_i, Wt0, Wt1):\n",
    "    hidden_layer = tf.nn.sigmoid(tf.matmul(X_i, Wt0))\n",
    "    return tf.nn.sigmoid( tf.matmul(hidden_layer, Wt1) )\n",
    "Y = two_layer_perceptron(X, W0, W1)\n",
    "\n",
    "binxentropy = tf.reduce_mean(-tf.reduce_sum(Ytruth * tf.log(Y) + (1 - Ytruth)*tf.log(Y), reduction_indices=[1]))\n",
    "\n",
    "\n",
    "# Optimization\n",
    "optimizer = tf.train.AdamOptimizer(learning_rate=RATE).minimize(binxentropy)\n",
    "# optimizer = tf.train.GradientDescentOptimizer(learning_rate=RATE).minimize(tf.nn.sigmoid_cross_entropy_with_logits)\n",
    "# optimizer = tf.train.GradientDescentOptimizer(learning_rate=RATE).minimize(binxentropy)"
   ]
  },
  {
   "cell_type": "code",
   "execution_count": null,
   "metadata": {
    "collapsed": false,
    "scrolled": true
   },
   "outputs": [],
   "source": [
    "if True:\n",
    "    # sess = tf.InteractiveSession()\n",
    "    \n",
    "    # Initialize the variables\n",
    "    tf.initialize_all_variables().run()\n",
    "    print \"W0Prior: {}\".format(W0.eval())\n",
    "    \n",
    "    # Get a batch for training\n",
    "    imbatch, wordbatch = get_training_batch([0,1,2,3,4,5])\n",
    "    indict={X:imbatch, Ytruth:wordbatch}\n",
    "    \n",
    "    # Run the session\n",
    "    optval, lossval, yval = sess.run([optimizer, binxentropy, Y], feed_dict=indict)\n",
    "    print \"W0SessRun: {}\".format(W0.eval())\n",
    "    \n",
    "    # Separately run the optimizer\n",
    "    optimizer.run(feed_dict=indict)\n",
    "    print \"W0OptRun: {}\".format(W0.eval())\n",
    "    \n",
    "    print optval\n",
    "    print lossval\n",
    "    print yval\n",
    "    \n",
    "    "
   ]
  },
  {
   "cell_type": "code",
   "execution_count": null,
   "metadata": {
    "collapsed": true
   },
   "outputs": [],
   "source": []
  }
 ],
 "metadata": {
  "kernelspec": {
   "display_name": "Python 2",
   "language": "python",
   "name": "python2"
  },
  "language_info": {
   "codemirror_mode": {
    "name": "ipython",
    "version": 2
   },
   "file_extension": ".py",
   "mimetype": "text/x-python",
   "name": "python",
   "nbconvert_exporter": "python",
   "pygments_lexer": "ipython2",
   "version": "2.7.6"
  }
 },
 "nbformat": 4,
 "nbformat_minor": 0
}
